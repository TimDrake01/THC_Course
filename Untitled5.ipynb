{
  "nbformat": 4,
  "nbformat_minor": 0,
  "metadata": {
    "colab": {
      "provenance": [],
      "authorship_tag": "ABX9TyM5rvKVtRecnC8AeNolHCHK",
      "include_colab_link": true
    },
    "kernelspec": {
      "name": "python3",
      "display_name": "Python 3"
    },
    "language_info": {
      "name": "python"
    }
  },
  "cells": [
    {
      "cell_type": "markdown",
      "metadata": {
        "id": "view-in-github",
        "colab_type": "text"
      },
      "source": [
        "<a href=\"https://colab.research.google.com/github/TimDrake01/THC_Course/blob/main/Untitled5.ipynb\" target=\"_parent\"><img src=\"https://colab.research.google.com/assets/colab-badge.svg\" alt=\"Open In Colab\"/></a>"
      ]
    },
    {
      "cell_type": "code",
      "execution_count": 12,
      "metadata": {
        "colab": {
          "base_uri": "https://localhost:8080/"
        },
        "id": "mRI3ggQ3gbTI",
        "outputId": "b5c78511-c1b7-48c9-dafc-e6f2e02964dc"
      },
      "outputs": [
        {
          "output_type": "stream",
          "name": "stdout",
          "text": [
            "Que palabra quieres encriptar? Asteroides\n",
            "Tu palabra encriptada es: 2i@o#e!A%r#s%e@s!d2t\n"
          ]
        }
      ],
      "source": [
        "import random\n",
        "\n",
        "def encript_palabra():\n",
        "  word = input(\"Que palabra quieres encriptar? \")\n",
        "  word = list(word)\n",
        "  random.shuffle(word)\n",
        "  chars = [\"#\", \"%\", \"@\", \"!\", \"2\"]\n",
        "  random.shuffle(chars)\n",
        "\n",
        "  EncWord = \"\"\n",
        "  for i in range(len(word)):\n",
        "    if len(word) > len(chars):\n",
        "      chars.append(\"#\")\n",
        "      chars.append(\"%\")\n",
        "      chars.append(\"@\")\n",
        "      chars.append(\"!\")\n",
        "      chars.append(\"2\")\n",
        "    EncWord += chars[i] + word[i]\n",
        "\n",
        "  print(\"Tu palabra encriptada es: \" + EncWord)\n",
        "\n",
        "encript_palabra()\n"
      ]
    }
  ]
}