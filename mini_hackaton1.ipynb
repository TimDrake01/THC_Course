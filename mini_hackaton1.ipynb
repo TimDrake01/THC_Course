{
  "nbformat": 4,
  "nbformat_minor": 0,
  "metadata": {
    "colab": {
      "provenance": [],
      "authorship_tag": "ABX9TyPFR/JoPkUWSddNUiQ71mCS",
      "include_colab_link": true
    },
    "kernelspec": {
      "name": "python3",
      "display_name": "Python 3"
    },
    "language_info": {
      "name": "python"
    }
  },
  "cells": [
    {
      "cell_type": "markdown",
      "metadata": {
        "id": "view-in-github",
        "colab_type": "text"
      },
      "source": [
        "<a href=\"https://colab.research.google.com/github/TimDrake01/THC_Course/blob/main/mini_hackaton1.ipynb\" target=\"_parent\"><img src=\"https://colab.research.google.com/assets/colab-badge.svg\" alt=\"Open In Colab\"/></a>"
      ]
    },
    {
      "cell_type": "code",
      "execution_count": 4,
      "metadata": {
        "colab": {
          "base_uri": "https://localhost:8080/",
          "height": 108
        },
        "id": "NNXuHFLftGIF",
        "outputId": "d0f5e5cf-1f4d-4c6d-cc5d-41b2d749ca13"
      },
      "outputs": [
        {
          "output_type": "error",
          "ename": "SyntaxError",
          "evalue": "invalid syntax (<ipython-input-4-3e64926e0433>, line 1)",
          "traceback": [
            "\u001b[0;36m  File \u001b[0;32m\"<ipython-input-4-3e64926e0433>\"\u001b[0;36m, line \u001b[0;32m1\u001b[0m\n\u001b[0;31m    for i in range = [0,12]\u001b[0m\n\u001b[0m                   ^\u001b[0m\n\u001b[0;31mSyntaxError\u001b[0m\u001b[0;31m:\u001b[0m invalid syntax\n"
          ]
        }
      ],
      "source": [
        "entrada_usuario = int(input(\"Dame un numero \"))\n"
      ]
    },
    {
      "cell_type": "code",
      "source": [
        "\"\"\"seguir = False\n",
        "while seguir == False:\n",
        "  num_entrada = int(input(\"Dame un numero \"))\n",
        "  for i in range(1,11):\n",
        "    print(num_entrada * i)\n",
        "  jugar_nuevo = print(\"Quieres seguir jugando? S/N \")\n",
        "  if jugar_nuevo == \"S\"\n",
        "    pass\n",
        "  else jugar_nuevo == \"N\":\n",
        "    seguir = True\"\"\"\n",
        "\n"
      ],
      "metadata": {
        "colab": {
          "base_uri": "https://localhost:8080/",
          "height": 108
        },
        "id": "rxYrUOg6vXjV",
        "outputId": "f09c2efe-04ae-40db-c5c5-ecdd47a9807b"
      },
      "execution_count": 9,
      "outputs": [
        {
          "output_type": "error",
          "ename": "SyntaxError",
          "evalue": "expected ':' (<ipython-input-9-94b8ef06e1cd>, line 2)",
          "traceback": [
            "\u001b[0;36m  File \u001b[0;32m\"<ipython-input-9-94b8ef06e1cd>\"\u001b[0;36m, line \u001b[0;32m2\u001b[0m\n\u001b[0;31m    while seguir == False\u001b[0m\n\u001b[0m                         ^\u001b[0m\n\u001b[0;31mSyntaxError\u001b[0m\u001b[0;31m:\u001b[0m expected ':'\n"
          ]
        }
      ]
    },
    {
      "cell_type": "code",
      "source": [
        "\"\"\"detener_juego = False\n",
        "while detener_juego == False:\n",
        "  suma_entrada = []\n",
        "  numero_usuario = int(input(\"Dame un numero \"))\n",
        "  suma_entrada.append(numero_usuario)\n",
        "  for i in suma_entrada\"\"\"\n",
        "\n"
      ],
      "metadata": {
        "id": "GYMbvxGbxNmt"
      },
      "execution_count": null,
      "outputs": []
    },
    {
      "cell_type": "code",
      "source": [
        "suma = 0\n",
        "n = 1\n",
        "while n != 0:\n",
        "  n = float(input(\"Escribe un numero \"))\n",
        "  suma = suma + n\n",
        "  print(suma)"
      ],
      "metadata": {
        "colab": {
          "base_uri": "https://localhost:8080/"
        },
        "id": "XP1OnSnJ3Pip",
        "outputId": "8949d3f6-b5f9-4f4b-913e-a8e0871a2a1f"
      },
      "execution_count": 14,
      "outputs": [
        {
          "output_type": "stream",
          "name": "stdout",
          "text": [
            "Escribe un numero 4\n",
            "4.0\n",
            "Escribe un numero 5\n",
            "9.0\n",
            "Escribe un numero 6\n",
            "15.0\n",
            "Escribe un numero 7\n",
            "22.0\n",
            "Escribe un numero 8\n",
            "30.0\n",
            "Escribe un numero 0\n",
            "30.0\n"
          ]
        }
      ]
    }
  ]
}