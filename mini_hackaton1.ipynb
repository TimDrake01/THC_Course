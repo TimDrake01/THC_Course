{
  "nbformat": 4,
  "nbformat_minor": 0,
  "metadata": {
    "colab": {
      "provenance": [],
      "include_colab_link": true
    },
    "kernelspec": {
      "name": "python3",
      "display_name": "Python 3"
    },
    "language_info": {
      "name": "python"
    }
  },
  "cells": [
    {
      "cell_type": "markdown",
      "metadata": {
        "id": "view-in-github",
        "colab_type": "text"
      },
      "source": [
        "<a href=\"https://colab.research.google.com/github/TimDrake01/THC_Course/blob/main/mini_hackaton1.ipynb\" target=\"_parent\"><img src=\"https://colab.research.google.com/assets/colab-badge.svg\" alt=\"Open In Colab\"/></a>"
      ]
    },
    {
      "cell_type": "code",
      "execution_count": 1,
      "metadata": {
        "id": "NNXuHFLftGIF"
      },
      "outputs": [],
      "source": [
        "\n"
      ]
    },
    {
      "cell_type": "code",
      "source": [
        "seguir = False\n",
        "while seguir == False:\n",
        "  num_entrada = int(input(\"Dame un numero \"))\n",
        "  for i in range(1,11):\n",
        "    print(num_entrada * i)\n",
        "  jugar_nuevo = input(\"Quieres seguir calculando tablas? S/N \")\n",
        "  if jugar_nuevo == \"S\":\n",
        "    pass\n",
        "  elif jugar_nuevo == \"N\":\n",
        "    seguir = True\n",
        "\n",
        "print(\"Hasta pronto :) \")\n"
      ],
      "metadata": {
        "colab": {
          "base_uri": "https://localhost:8080/"
        },
        "id": "rxYrUOg6vXjV",
        "outputId": "00d5285f-c994-415d-fd2e-73a8739db583"
      },
      "execution_count": 7,
      "outputs": [
        {
          "output_type": "stream",
          "name": "stdout",
          "text": [
            "Dame un numero 3\n",
            "3\n",
            "6\n",
            "9\n",
            "12\n",
            "15\n",
            "18\n",
            "21\n",
            "24\n",
            "27\n",
            "30\n",
            "Quieres seguir calculando tablas? S/N S\n",
            "Dame un numero 59836\n",
            "59836\n",
            "119672\n",
            "179508\n",
            "239344\n",
            "299180\n",
            "359016\n",
            "418852\n",
            "478688\n",
            "538524\n",
            "598360\n",
            "Quieres seguir calculando tablas? S/N N\n",
            "Hasta pronto :) \n"
          ]
        }
      ]
    },
    {
      "cell_type": "code",
      "source": [
        "detener_juego = False\n",
        "while detener_juego == False:\n",
        "  suma_entrada = []\n",
        "  numero_usuario = int(input(\"Dame un numero \"))\n",
        "  suma_entrada.append(numero_usuario)\n",
        "  for i in suma_entrada\n",
        "\n"
      ],
      "metadata": {
        "id": "GYMbvxGbxNmt"
      },
      "execution_count": null,
      "outputs": []
    },
    {
      "cell_type": "code",
      "source": [
        "suma = 0\n",
        "n = 1\n",
        "while n != 0:\n",
        "  n = float(input(\"Escribe un numero \"))\n",
        "  suma = suma + n\n",
        "  print(suma)"
      ],
      "metadata": {
        "colab": {
          "base_uri": "https://localhost:8080/"
        },
        "id": "XP1OnSnJ3Pip",
        "outputId": "8949d3f6-b5f9-4f4b-913e-a8e0871a2a1f"
      },
      "execution_count": null,
      "outputs": [
        {
          "output_type": "stream",
          "name": "stdout",
          "text": [
            "Escribe un numero 4\n",
            "4.0\n",
            "Escribe un numero 5\n",
            "9.0\n",
            "Escribe un numero 6\n",
            "15.0\n",
            "Escribe un numero 7\n",
            "22.0\n",
            "Escribe un numero 8\n",
            "30.0\n",
            "Escribe un numero 0\n",
            "30.0\n"
          ]
        }
      ]
    }
  ]
}