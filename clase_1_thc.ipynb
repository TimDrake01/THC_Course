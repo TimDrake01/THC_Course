{
  "nbformat": 4,
  "nbformat_minor": 0,
  "metadata": {
    "colab": {
      "provenance": [],
      "include_colab_link": true
    },
    "kernelspec": {
      "name": "python3",
      "display_name": "Python 3"
    },
    "language_info": {
      "name": "python"
    }
  },
  "cells": [
    {
      "cell_type": "markdown",
      "metadata": {
        "id": "view-in-github",
        "colab_type": "text"
      },
      "source": [
        "<a href=\"https://colab.research.google.com/github/TimDrake01/THC_Course/blob/main/clase_1_thc.ipynb\" target=\"_parent\"><img src=\"https://colab.research.google.com/assets/colab-badge.svg\" alt=\"Open In Colab\"/></a>"
      ]
    },
    {
      "cell_type": "code",
      "execution_count": null,
      "metadata": {
        "colab": {
          "base_uri": "https://localhost:8080/"
        },
        "id": "TSIE7SLZs-1_",
        "outputId": "27141d88-c9c1-4349-c710-1462a96dafdd"
      },
      "outputs": [
        {
          "output_type": "stream",
          "name": "stdout",
          "text": [
            "35 Andrés\n",
            "Hola mundo\n",
            "Este es mi primer programa en python\n"
          ]
        }
      ],
      "source": [
        "x=35 # variable de tipo entero\n",
        "y=\"Andrés\" # variable de tipo cadena (string)\n",
        "print(x,y) # comando para mostrar en pantalla el contenido de las variables\n",
        "\n",
        "z=\"Hola mundo\"\n",
        "print(z)\n",
        "\n",
        "xy=\"Este es mi primer programa en python\"\n",
        "print(xy)\n",
        "\n",
        "\n"
      ]
    },
    {
      "cell_type": "code",
      "source": [
        "#Casteo\n",
        "\n",
        "x_1=int(3) # Especificamos que x_1 sea un siempre un entero (int)\n",
        "y_1=float(6) # Especificamos que y_1 sea un decimal o flotante (float)\n",
        "z_1=str(6) # Transforma un número en cadena (string)\n",
        "\n",
        "print(type(x_1), type(y_1), type(z_1))\n"
      ],
      "metadata": {
        "colab": {
          "base_uri": "https://localhost:8080/"
        },
        "id": "cVZshnMwzdsZ",
        "outputId": "1c8ab326-839b-4715-9928-7aef85467de8"
      },
      "execution_count": null,
      "outputs": [
        {
          "output_type": "stream",
          "name": "stdout",
          "text": [
            "<class 'int'> <class 'float'> <class 'str'>\n"
          ]
        }
      ]
    },
    {
      "cell_type": "code",
      "source": [
        "nombre_1=\"Andres Martinez\"\n",
        "nombre_2=\"Andres Mtz\"\n",
        "\n",
        "print(nombre_1 + nombre_2) # Se pueden sumar cadenas (strings)\n",
        "\n",
        "print(nombre_1, nombre_2)"
      ],
      "metadata": {
        "id": "I_-8bZOQ1LOE",
        "colab": {
          "base_uri": "https://localhost:8080/"
        },
        "outputId": "b117f4b1-9c40-4cf8-e16d-c2a2bbd9e468"
      },
      "execution_count": null,
      "outputs": [
        {
          "output_type": "stream",
          "name": "stdout",
          "text": [
            "Andres MartinezAndres Mtz\n",
            "Andres Martinez Andres Mtz\n"
          ]
        }
      ]
    },
    {
      "cell_type": "markdown",
      "source": [
        "Clase 11/03/25"
      ],
      "metadata": {
        "id": "5gQlQDzIHgSg"
      }
    },
    {
      "cell_type": "code",
      "source": [
        "a = 450\n",
        "b = 320\n",
        "c = 199\n",
        "\n",
        "if a > b and a < c:\n",
        "  print('a es mayor que b y a')\n",
        "elif a > b and a > c:\n",
        "  print('a es mayor que b, pero menor que c')\n",
        "elif a < b and a < c:\n",
        "  print('a es menor que b y a es menor que c')\n",
        "elif a > b or a > c and b < c:\n",
        "  print('a es mayor que b o que c, y b es menor que c')"
      ],
      "metadata": {
        "id": "1-7ojwTkHmTy"
      },
      "execution_count": null,
      "outputs": []
    },
    {
      "cell_type": "code",
      "source": [
        "from logging import log\n",
        "import numpy as np\n",
        "x = 8\n",
        "pow = np.log2(x)\n",
        "\n",
        "#if x % 2 == 0:\n",
        " # print('x es par')\n",
        "if pow == :\n",
        "  print('Es potencia de dos')\n",
        "else:\n",
        "  print('No es potencia de dos')\n",
        "print(pow)\n",
        "#else:\n",
        "  #print('x es impar y su cuadrado es: ' + str(x**2))\n"
      ],
      "metadata": {
        "id": "WsN82zIeHnZR"
      },
      "execution_count": null,
      "outputs": []
    }
  ]
}