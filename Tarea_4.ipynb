{
  "nbformat": 4,
  "nbformat_minor": 0,
  "metadata": {
    "colab": {
      "provenance": [],
      "include_colab_link": true
    },
    "kernelspec": {
      "name": "python3",
      "display_name": "Python 3"
    },
    "language_info": {
      "name": "python"
    }
  },
  "cells": [
    {
      "cell_type": "markdown",
      "metadata": {
        "id": "view-in-github",
        "colab_type": "text"
      },
      "source": [
        "<a href=\"https://colab.research.google.com/github/TimDrake01/THC_Course/blob/main/Tarea_4.ipynb\" target=\"_parent\"><img src=\"https://colab.research.google.com/assets/colab-badge.svg\" alt=\"Open In Colab\"/></a>"
      ]
    },
    {
      "cell_type": "code",
      "execution_count": null,
      "metadata": {
        "id": "5endGDYwCYsc"
      },
      "outputs": [],
      "source": []
    },
    {
      "cell_type": "code",
      "source": [
        "# EJERCICIO 1\n",
        "\n",
        "\n",
        "print(\"Bienvenido al conversor de divisas. \")\n",
        "print(\"------------------------------------ \\n\")\n",
        "print(\"Puedes convertir dolares americanos a: \\n - 1 pesos mexicanos \\n \"\n",
        "\"- 2 euros \\n - 3 libras esterlinas \\n - 4 yuanes \\n - 5 rublos \\n\")\n",
        "\n",
        "tipo_de_cambio = { \"pesos mexicanos\" : \"19.61\",\n",
        "                  \"euros\" : \"0.88\",\n",
        "                  \"libras esterlinas\" : \"0.75\",\n",
        "                  \"yuanes\" : \"7.87\",\n",
        "                  \"rublos\" : \"82\" }\n",
        "\n",
        "\n",
        "print(\"Para salir, presione 0 \\n\")\n",
        "\n",
        "\n",
        "def convertidor():\n",
        "  opcion = None\n",
        "  while opcion != 0:\n",
        "    opcion = int(input(\"A que moneda deseas cambiar? \"))\n",
        "\n",
        "    if opcion == 1:\n",
        "      print(\"El tipo de cambio es: \" + tipo_de_cambio[\"pesos mexicanos\"])\n",
        "      monto = float(input(\"Cuanto deseas convertir? \"))\n",
        "      resultado = monto * float(tipo_de_cambio[\"pesos mexicanos\"])\n",
        "      print(str(monto) + \" \" + \"dolares son: \" + str(resultado) + \" \" + \"pesos mexicanos \\n\")\n",
        "\n",
        "    elif opcion == 2:\n",
        "      print(\"El tipo de cambio es: \" + tipo_de_cambio[\"euros\"])\n",
        "      monto = float(input(\"Cuanto deseas convertir? \"))\n",
        "      resultado = monto * float(tipo_de_cambio[\"euros\"])\n",
        "      print(str(monto) + \" \" + \"dolares son: \" + str(resultado) + \" \" + \"euros \\n\")\n",
        "\n",
        "    elif opcion == 3:\n",
        "      print(\"El tipo de cambio es: \" + tipo_de_cambio[\"libras esterlinas\"])\n",
        "      monto = float(input(\"Cuanto deseas convertir? \"))\n",
        "      resultado = monto * float(tipo_de_cambio[\"libras esterlinas\"])\n",
        "      print(str(monto) + \" \" + \"dolares son: \" + str(resultado) + \" \" + \"libras esterlinas \\n\")\n",
        "\n",
        "    elif opcion == 4:\n",
        "      print(\"El tipo de cambio es: \" + tipo_de_cambio[\"yuanes\"])\n",
        "      monto = float(input(\"Cuanto deseas convertir? \"))\n",
        "      resultado = monto * float(tipo_de_cambio[\"yuanes\"])\n",
        "      print(str(monto) + \" \" + \"dolares son: \" + str(resultado) + \" \" + \"yuanes\")\n",
        "\n",
        "    elif opcion == 5:\n",
        "      print(\"El tipo de cambio es: \" + tipo_de_cambio[\"rublos\"])\n",
        "      monto = float(input(\"Cuanto deseas convertir? \"))\n",
        "      resultado = monto * float(tipo_de_cambio[\"rublos\"])\n",
        "      print(str(monto) + \" \" + \"dolares son: \" + str(resultado) + \" \" + \"rublos \\n\")\n",
        "\n",
        "    elif opcion == 0:\n",
        "      break\n",
        "\n",
        "    else:\n",
        "      print(\"Esa no es una opcion valida\")\n",
        "\n",
        "  print(\"Gracias, vuelva pronto. :) \")\n",
        "\n",
        "convertidor()\n",
        "\n"
      ],
      "metadata": {
        "colab": {
          "base_uri": "https://localhost:8080/"
        },
        "id": "6rfXfnCWC6Hk",
        "outputId": "a07cd2d7-6c94-4435-bb62-a91685ea905a"
      },
      "execution_count": null,
      "outputs": [
        {
          "output_type": "stream",
          "name": "stdout",
          "text": [
            "Bienvenido al conversor de divisas. \n",
            "------------------------------------ \n",
            "\n",
            "Puedes convertir dolares americanos a: \n",
            " - 1 pesos mexicanos \n",
            " - 2 euros \n",
            " - 3 libras esterlinas \n",
            " - 4 yuanes \n",
            " - 5 rublos \n",
            "\n",
            "Para salir, presione 0 \n",
            "\n",
            "A que moneda deseas cambiar? 1\n",
            "El tipo de cambio es: 19.61\n",
            "Cuanto deseas convertir? 300\n",
            "300.0 dolares son: 5883.0 pesos mexicanos \n",
            "\n",
            "A que moneda deseas cambiar? 2\n",
            "El tipo de cambio es: 0.88\n",
            "Cuanto deseas convertir? 3400\n",
            "3400.0 dolares son: 2992.0 euros \n",
            "\n",
            "A que moneda deseas cambiar? 3\n",
            "El tipo de cambio es: 0.75\n",
            "Cuanto deseas convertir? 2000\n",
            "2000.0 dolares son: 1500.0 libras esterlinas \n",
            "\n",
            "A que moneda deseas cambiar? 4\n",
            "El tipo de cambio es: 7.87\n",
            "Cuanto deseas convertir? 500\n",
            "500.0 dolares son: 3935.0 yuanes\n",
            "A que moneda deseas cambiar? 5\n",
            "El tipo de cambio es: 82\n",
            "Cuanto deseas convertir? 257639\n",
            "257639.0 dolares son: 21126398.0 rublos \n",
            "\n",
            "A que moneda deseas cambiar? 6\n",
            "Esa no es una opcion valida\n",
            "A que moneda deseas cambiar? 0\n",
            "Gracias, vuelva pronto. :) \n"
          ]
        }
      ]
    },
    {
      "cell_type": "code",
      "source": [
        "# EJERCICIO 2\n",
        "\n",
        "\n",
        "print(\"Bienvenido al calculador de descuentos. \")\n",
        "print(\"------------------------------------ \\n\")\n",
        "\n",
        "print(\"Presione 0 para salir \\n \")\n",
        "\n",
        "salir = False\n",
        "\n",
        "while salir == False:\n",
        "  precio_original = float(input(\"Cual es el precio original del producto? \"))\n",
        "  if precio_original == 0.0:\n",
        "    salir = True\n",
        "    break\n",
        "\n",
        "  descuento = float(input(\"Cual es el porcentaje de descuento? \"))\n",
        "\n",
        "\n",
        "  if precio_original != 0.0:\n",
        "   precio_final = precio_original - (precio_original * (descuento / 100))\n",
        "   print(\"El precio final del producto es: \" + str(precio_final) + \" \" + \"pesos \\n\")\n",
        "\n",
        "\n",
        "  else:\n",
        "    print(\"Esa no es una opcion valida \\n\")\n",
        "\n",
        "print(\"Gracias, vuelva pronto. :) \")\n"
      ],
      "metadata": {
        "colab": {
          "base_uri": "https://localhost:8080/"
        },
        "id": "5bnXOHmaxizc",
        "outputId": "4392fbdf-8287-4335-e944-d9e369caee45"
      },
      "execution_count": null,
      "outputs": [
        {
          "output_type": "stream",
          "name": "stdout",
          "text": [
            "Bienvenido al calculador de descuentos. \n",
            "------------------------------------ \n",
            "\n",
            "Presione 0 para salir \n",
            " \n",
            "Cual es el precio original del producto? 400\n",
            "Cual es el porcentaje de descuento? 34\n",
            "El precio final del producto es: 264.0 pesos \n",
            "\n",
            "Cual es el precio original del producto? 500\n",
            "Cual es el porcentaje de descuento? 0\n",
            "El precio final del producto es: 500.0 pesos \n",
            "\n",
            "Cual es el precio original del producto? 0\n",
            "Gracias, vuelva pronto. :) \n"
          ]
        }
      ]
    },
    {
      "cell_type": "code",
      "source": [
        "# EJERCICIO 3\n",
        "\n",
        "\n",
        "def mayor_menor():\n",
        "  lista_final = []\n",
        "\n",
        "  num_usuario = int(input(\"Ingresa un numero \"))\n",
        "  lista_final.append(num_usuario)\n",
        "\n",
        "  if len(lista_final) < 3:\n",
        "    num_usuario = int(input(\"Ingresa un numero \"))\n",
        "    lista_final.append(num_usuario)\n",
        "\n",
        "    if len(lista_final) < 3:\n",
        "      num_usuario = int(input(\"Ingresa un numero \"))\n",
        "      lista_final.append(num_usuario)\n",
        "\n",
        "\n",
        "  print(\"\\n\")\n",
        "  print(\"El numero mayor es: \" + str(max(lista_final)))\n",
        "  print(\"El numero menor es: \" + str(min(lista_final)))\n",
        "\n",
        "mayor_menor()\n",
        "\n",
        "\n",
        "\n",
        "\n"
      ],
      "metadata": {
        "colab": {
          "base_uri": "https://localhost:8080/"
        },
        "id": "uoieML7ZMceK",
        "outputId": "5cb36c62-0940-413a-e609-1240dae744c6"
      },
      "execution_count": null,
      "outputs": [
        {
          "output_type": "stream",
          "name": "stdout",
          "text": [
            "Ingresa un numero 1\n",
            "Ingresa un numero 2\n",
            "Ingresa un numero 3\n",
            "\n",
            "\n",
            "El numero mayor es: 3\n",
            "El numero menor es: 1\n"
          ]
        }
      ]
    },
    {
      "cell_type": "code",
      "source": [
        "# Otra forma de hacer el ejercicio 3\n",
        "\n",
        "lista_final = []\n",
        "\n",
        "while len(lista_final) < 3:\n",
        "  num_usuario = (input(\"Ingresa un numero \"))\n",
        "  lista_final.append(num_usuario)\n",
        "\n",
        "print(\"\\n\")\n",
        "print(\"El numero mayor es: \" + str(max(lista_final)))\n",
        "print(\"El numero menor es: \" + str(min(lista_final)))\n",
        "\n"
      ],
      "metadata": {
        "colab": {
          "base_uri": "https://localhost:8080/"
        },
        "id": "iZxDsjcQUIrS",
        "outputId": "a2ae6121-3e82-4180-9479-09ba87d8d7b6"
      },
      "execution_count": null,
      "outputs": [
        {
          "output_type": "stream",
          "name": "stdout",
          "text": [
            "Ingresa un numero 1\n",
            "Ingresa un numero 2\n",
            "Ingresa un numero 3\n",
            "\n",
            "\n",
            "El numero mayor es: 3\n",
            "El numero menor es: 1\n"
          ]
        }
      ]
    },
    {
      "cell_type": "code",
      "source": [
        "# EJERCICIO 4\n",
        "\n",
        "import math\n",
        "\n",
        "def chicharronera():\n",
        "  a = float(input(\"Ingrese el valor de a \"))\n",
        "  b = float(input(\"Ingrese el valor de b \"))\n",
        "  c = float(input(\"Ingrese el valor de c \"))\n",
        "  print(\"\\n\")\n",
        "\n",
        "  while a == 0.0:\n",
        "      print(\"El valor de a no puede ser 0 \")\n",
        "      a = float(input(\"Ingrese el valor de a \"))\n",
        "      b = float(input(\"Ingrese el valor de b \"))\n",
        "      c = float(input(\"Ingrese el valor de c \\n\"))\n",
        "      print(\"\\n\")\n",
        "\n",
        "  discriminante = float(math.sqrt(b**2 - (4*a*c)))\n",
        "  solucion_1 = ((- b + discriminante ) / (2*a))\n",
        "  solucion_2 = ((- b - discriminante ) / (2*a))\n",
        "\n",
        "  if discriminante < 0.0:\n",
        "    print(\"El discriminante es: \" + str(discriminante))\n",
        "    print(\"Por lo tanto, la ecuacion no tiene soluciones reales\")\n",
        "  elif discriminante >= 0.0:\n",
        "    print(\"El discriminante es: \" + str(discriminante))\n",
        "    print(\"La solucion 1 es: \" + str(solucion_1))\n",
        "    print(\"La solucion 2 es: \" + str(solucion_2))\n",
        "\n",
        "chicharronera()\n",
        ""
      ],
      "metadata": {
        "id": "ofpE2JpVdKhu",
        "outputId": "06a6825d-cbca-423e-8163-ef66802ce88b",
        "colab": {
          "base_uri": "https://localhost:8080/"
        }
      },
      "execution_count": 5,
      "outputs": [
        {
          "output_type": "stream",
          "name": "stdout",
          "text": [
            "Ingrese el valor de a 0\n",
            "Ingrese el valor de b -5\n",
            "Ingrese el valor de c 6\n",
            "\n",
            "\n",
            "El valor de a no puede ser 0 \n",
            "Ingrese el valor de a 1\n",
            "Ingrese el valor de b -5\n",
            "Ingrese el valor de c \n",
            "6\n",
            "\n",
            "\n",
            "El discriminante es: 1.0\n",
            "La solucion 1 es: 3.0\n",
            "La solucion 2 es: 2.0\n"
          ]
        }
      ]
    },
    {
      "cell_type": "code",
      "source": [
        "# EJERCICIO 5\n",
        "\n",
        "lista_positiva = []\n",
        "lista_negativa = []\n",
        "\n",
        "print(\"Presione 0 para salir \\n\")\n",
        "\n",
        "def lista_positivo_negativo():\n",
        "  while True:\n",
        "    elemento_lista = float(input(\"Ingresa un numero \"))\n",
        "    if elemento_lista > 0:\n",
        "      lista_positiva.append(elemento_lista)\n",
        "    elif elemento_lista < 0:\n",
        "      lista_negativa.append(elemento_lista)\n",
        "    elif elemento_lista == 0: # Se utiliza 0 como boton de salir, ya que 0 no es posotivo ni negativo\n",
        "      break\n",
        "\n",
        "  print(\"\\n\")\n",
        "  print(\"Negativos: \")\n",
        "  print(lista_negativa)\n",
        "  print(\"\\n\")\n",
        "  print(\"Positivos: \")\n",
        "  print(lista_positiva)\n",
        "\n",
        "\n",
        "lista_positivo_negativo()\n",
        "\n",
        "\n"
      ],
      "metadata": {
        "colab": {
          "base_uri": "https://localhost:8080/"
        },
        "id": "RlXwGGAQqOkd",
        "outputId": "2800b971-6cf6-4e02-b285-dfd5d42f5ce1"
      },
      "execution_count": null,
      "outputs": [
        {
          "output_type": "stream",
          "name": "stdout",
          "text": [
            "Presione 0 para salir \n",
            "\n",
            "Ingresa un numero 3\n",
            "Ingresa un numero 4\n",
            "Ingresa un numero -6\n",
            "Ingresa un numero 3.5\n",
            "Ingresa un numero -9.8\n",
            "Ingresa un numero 0\n",
            "\n",
            "\n",
            "Negativos: \n",
            "[-6.0, -9.8]\n",
            "\n",
            "\n",
            "Positivos: \n",
            "[3.0, 4.0, 3.5]\n"
          ]
        }
      ]
    },
    {
      "cell_type": "code",
      "source": [
        "# EJERCICIO 6\n",
        "\n",
        "Datos= [5, 2.4, \"hola\", 7, 10, 3.14,True,False, \"Hi\", 0, 0.265] # lista a usar\n",
        "\n",
        "entero = []\n",
        "flotante = []\n",
        "cadena = []\n",
        "booleano = []\n",
        "\n",
        "def filtrar_lista(lista):\n",
        "  for elemento in Datos:\n",
        "    if type(elemento) == int:\n",
        "      entero.append(elemento)\n",
        "    elif type(elemento) == float:\n",
        "      flotante.append(elemento)\n",
        "    elif type(elemento) == str:\n",
        "      cadena.append(elemento)\n",
        "    elif type(elemento) == bool:\n",
        "      booleano.append(elemento)\n",
        "\n",
        "  \"\"\"print(entero)\n",
        "  print(flotante)\n",
        "  print(cadena)\n",
        "  print(booleano)\"\"\"\n",
        "\n",
        "  return entero, flotante, cadena, booleano\n",
        "\n",
        "filtrar_lista(Datos)"
      ],
      "metadata": {
        "colab": {
          "base_uri": "https://localhost:8080/"
        },
        "id": "k1HWF8YTiCcq",
        "outputId": "8878baf1-3b7c-4b69-b67e-9af7a3d76400"
      },
      "execution_count": null,
      "outputs": [
        {
          "output_type": "execute_result",
          "data": {
            "text/plain": [
              "([5, 7, 10, 0], [2.4, 3.14, 0.265], ['hola', 'Hi'], [True, False])"
            ]
          },
          "metadata": {},
          "execution_count": 3
        }
      ]
    },
    {
      "cell_type": "markdown",
      "source": [
        "EJERCICIO 7"
      ],
      "metadata": {
        "id": "vGJgzaOQj1bV"
      }
    },
    {
      "cell_type": "code",
      "source": [
        "# EJERCICIO 7\n",
        "\n",
        "piramide = int(input(\"ingresa el tamaño de la piramide: \"))\n",
        "\n",
        "contador = 0\n",
        "\n",
        "while contador < piramide:\n",
        "  print(\"*\" * (contador + 1))\n",
        "  contador += 1"
      ],
      "metadata": {
        "colab": {
          "base_uri": "https://localhost:8080/"
        },
        "id": "SDvhC9_Mj2hS",
        "outputId": "981e7436-0748-4b07-ffbe-132d595b9a22"
      },
      "execution_count": null,
      "outputs": [
        {
          "output_type": "stream",
          "name": "stdout",
          "text": [
            "ingresa el tamaño de la piramide: 15\n",
            "*\n",
            "**\n",
            "***\n",
            "****\n",
            "*****\n",
            "******\n",
            "*******\n",
            "********\n",
            "*********\n",
            "**********\n",
            "***********\n",
            "************\n",
            "*************\n",
            "**************\n",
            "***************\n"
          ]
        }
      ]
    },
    {
      "cell_type": "code",
      "source": [
        "# EJERCICO 9\n",
        "\n",
        "import math\n",
        "\n",
        "def calcular_distancia(x1, y1, x2, y2):\n",
        "  distancia = math.sqrt((x2 - x1)**2 + (y2 - y1)**2))\n",
        "  print(\"La distancia entre los puntos es: \" + str(distancia))\n",
        "\n",
        "calcular_distancia(4, 2, 6, 3)"
      ],
      "metadata": {
        "id": "BF-WQ7v4sUA5",
        "outputId": "4031b8c5-9bf2-4763-ca57-580e1b42289b",
        "colab": {
          "base_uri": "https://localhost:8080/"
        }
      },
      "execution_count": null,
      "outputs": [
        {
          "output_type": "stream",
          "name": "stdout",
          "text": [
            "La distancia entre los puntos es: 2.23606797749979\n"
          ]
        }
      ]
    },
    {
      "cell_type": "code",
      "source": [
        "# EJERCICIO 11.\n",
        "\n",
        "import random\n",
        "\n",
        "print(\"Bienvenido al juego de dados \")\n",
        "print(\"_________________________________\")\n",
        "\n",
        "print(\"Las reglas son las siguientes: \\n\"\n",
        "\"Si el dado cae en 1, vuelven a lanzar, \\n\"\n",
        "\"si el dado cae 6, quedan empatados, \\n\"\n",
        "\"si el dado cae 2 o 3, gana el jugador 1, \\n\"\n",
        "\"y si el dado cae 4 o 5, gana el jugador 2 \\n\")\n",
        "\n",
        "print(\"Presione enter para tirar el dado \")\n",
        "print(\"Presione Q para salir \")\n",
        "\n",
        "while True:\n",
        "\n",
        "    tirar_dado = input(\"\")\n",
        "\n",
        "    dado = random.randint(1,6)\n",
        "    if tirar_dado == \"Q\":\n",
        "        print(\"Gracias por jugar :) \")\n",
        "        break\n",
        "    elif dado == 1:\n",
        "        print(\"El dado cayo en: \" + str(dado))\n",
        "        print(\"Vuelva a tirar \")\n",
        "    elif dado == 2:\n",
        "        print(\"El dado cayo en: \" + str(dado))\n",
        "        print(\"Han quedado empatados \")\n",
        "    elif dado == 3 or dado == 4:\n",
        "        print(\"El dado cayo en: \" + str(dado))\n",
        "        print(\"Jugador 1 es el ganador! \")\n",
        "    elif dado == 5 or dado == 6:\n",
        "        print(\"El dado cayo en: \" + str(dado))\n",
        "        print(\"Jugador 2 es el ganador! \")"
      ],
      "metadata": {
        "colab": {
          "base_uri": "https://localhost:8080/"
        },
        "id": "aTLeRnVOctVK",
        "outputId": "4a8e5f4c-2496-4777-fe84-d2f8aed8ec29"
      },
      "execution_count": 1,
      "outputs": [
        {
          "output_type": "stream",
          "name": "stdout",
          "text": [
            "Bienvenido al juego de dados \n",
            "_________________________________\n",
            "Las reglas son las siguientes: \n",
            "Si el dado cae en 1, vuelven a lanzar, \n",
            "si el dado cae 6, quedan empatados, \n",
            "si el dado cae 2 o 3, gana el jugador 1, \n",
            "y si el dado cae 4 o 5, gana el jugador 2 \n",
            "\n",
            "Presione enter para tirar el dado \n",
            "Presione Q para salir \n",
            "\n",
            "El dado cayo en: 1\n",
            "Vuelva a tirar \n",
            "\n",
            "El dado cayo en: 3\n",
            "Jugador 1 es el ganador! \n",
            "\n",
            "El dado cayo en: 6\n",
            "Jugador 2 es el ganador! \n",
            "\n",
            "El dado cayo en: 5\n",
            "Jugador 2 es el ganador! \n",
            "\n",
            "El dado cayo en: 5\n",
            "Jugador 2 es el ganador! \n",
            "\n",
            "El dado cayo en: 2\n",
            "Han quedado empatados \n",
            "\n",
            "El dado cayo en: 4\n",
            "Jugador 1 es el ganador! \n",
            "Q\n",
            "Gracias por jugar :) \n"
          ]
        }
      ]
    }
  ]
}