{
  "nbformat": 4,
  "nbformat_minor": 0,
  "metadata": {
    "colab": {
      "provenance": [],
      "authorship_tag": "ABX9TyNPSoYyXnL3RKxgCTCwi0ue",
      "include_colab_link": true
    },
    "kernelspec": {
      "name": "python3",
      "display_name": "Python 3"
    },
    "language_info": {
      "name": "python"
    }
  },
  "cells": [
    {
      "cell_type": "markdown",
      "metadata": {
        "id": "view-in-github",
        "colab_type": "text"
      },
      "source": [
        "<a href=\"https://colab.research.google.com/github/TimDrake01/THC_Course/blob/main/Tarea_4.ipynb\" target=\"_parent\"><img src=\"https://colab.research.google.com/assets/colab-badge.svg\" alt=\"Open In Colab\"/></a>"
      ]
    },
    {
      "cell_type": "code",
      "execution_count": null,
      "metadata": {
        "id": "5endGDYwCYsc"
      },
      "outputs": [],
      "source": []
    },
    {
      "cell_type": "markdown",
      "source": [
        "\"\"\" Diseña un programa que convierta dólares americanos a pesos mexicanos, euros, libras esterlinas,\n",
        "yuanes y rublos utilizando una tasa de cambio fija. Muestre la tasa de cambio e imprima los cinco resultados.\"\"\""
      ],
      "metadata": {
        "id": "BG3hQ9MPC4F9"
      }
    },
    {
      "cell_type": "code",
      "source": [
        "print(\"Bienvenido al conversor de divisas. \")\n",
        "print(\"------------------------------------ \\n\")\n",
        "print(\"Puedes convertir dolares americanos a: \\n - 1 pesos mexicanos \\n \"\n",
        "\"- 2 euros \\n - 3 libras esterlinas \\n - 4 yuanes \\n - 5 rublos \\n\")\n",
        "\n",
        "tipo_de_cambio = { \"pesos mexicanos\" : \"19.61\",\n",
        "                  \"euros\" : \"0.88\",\n",
        "                  \"libras esterlinas\" : \"0.75\",\n",
        "                  \"yuanes\" : \"7.87\",\n",
        "                  \"rublos\" : \"82\" }\n",
        "\n",
        "\n",
        "print(\"Para salir, presione 0 \\n\")\n",
        "\n",
        "\n",
        "def convertidor():\n",
        "  opcion = None\n",
        "  while opcion != 0:\n",
        "    opcion = int(input(\"A que moneda deseas cambiar? \"))\n",
        "\n",
        "    if opcion == 1:\n",
        "      print(\"El tipo de cambio es: \" + tipo_de_cambio[\"pesos mexicanos\"])\n",
        "      monto = float(input(\"Cuanto deseas convertir? \"))\n",
        "      resultado = monto * float(tipo_de_cambio[\"pesos mexicanos\"])\n",
        "      print(str(monto) + \" \" + \"dolares son: \" + str(resultado) + \" \" + \"pesos mexicanos \\n\")\n",
        "\n",
        "    elif opcion == 2:\n",
        "      print(\"El tipo de cambio es: \" + tipo_de_cambio[\"euros\"])\n",
        "      monto = float(input(\"Cuanto deseas convertir? \"))\n",
        "      resultado = monto * float(tipo_de_cambio[\"euros\"])\n",
        "      print(str(monto) + \" \" + \"dolares son: \" + str(resultado) + \" \" + \"euros \\n\")\n",
        "\n",
        "    elif opcion == 3:\n",
        "      print(\"El tipo de cambio es: \" + tipo_de_cambio[\"libras esterlinas\"])\n",
        "      monto = float(input(\"Cuanto deseas convertir? \"))\n",
        "      resultado = monto * float(tipo_de_cambio[\"libras esterlinas\"])\n",
        "      print(str(monto) + \" \" + \"dolares son: \" + str(resultado) + \" \" + \"libras esterlinas \\n\")\n",
        "\n",
        "    elif opcion == 4:\n",
        "      print(\"El tipo de cambio es: \" + tipo_de_cambio[\"yuanes\"])\n",
        "      monto = float(input(\"Cuanto deseas convertir? \"))\n",
        "      resultado = monto * float(tipo_de_cambio[\"yuanes\"])\n",
        "      print(str(monto) + \" \" + \"dolares son: \" + str(resultado) + \" \" + \"yuanes\")\n",
        "\n",
        "    elif opcion == 5:\n",
        "      print(\"El tipo de cambio es: \" + tipo_de_cambio[\"rublos\"])\n",
        "      monto = float(input(\"Cuanto deseas convertir? \"))\n",
        "      resultado = monto * float(tipo_de_cambio[\"rublos\"])\n",
        "      print(str(monto) + \" \" + \"dolares son: \" + str(resultado) + \" \" + \"rublos \\n\")\n",
        "\n",
        "    elif opcion == 0:\n",
        "      break\n",
        "\n",
        "    else:\n",
        "      print(\"Esa no es una opcion valida\")\n",
        "\n",
        "  print(\"Gracias, vuelva pronto. :) \")\n",
        "\n",
        "convertidor()\n",
        "\n"
      ],
      "metadata": {
        "colab": {
          "base_uri": "https://localhost:8080/"
        },
        "id": "6rfXfnCWC6Hk",
        "outputId": "a07cd2d7-6c94-4435-bb62-a91685ea905a"
      },
      "execution_count": 14,
      "outputs": [
        {
          "output_type": "stream",
          "name": "stdout",
          "text": [
            "Bienvenido al conversor de divisas. \n",
            "------------------------------------ \n",
            "\n",
            "Puedes convertir dolares americanos a: \n",
            " - 1 pesos mexicanos \n",
            " - 2 euros \n",
            " - 3 libras esterlinas \n",
            " - 4 yuanes \n",
            " - 5 rublos \n",
            "\n",
            "Para salir, presione 0 \n",
            "\n",
            "A que moneda deseas cambiar? 1\n",
            "El tipo de cambio es: 19.61\n",
            "Cuanto deseas convertir? 300\n",
            "300.0 dolares son: 5883.0 pesos mexicanos \n",
            "\n",
            "A que moneda deseas cambiar? 2\n",
            "El tipo de cambio es: 0.88\n",
            "Cuanto deseas convertir? 3400\n",
            "3400.0 dolares son: 2992.0 euros \n",
            "\n",
            "A que moneda deseas cambiar? 3\n",
            "El tipo de cambio es: 0.75\n",
            "Cuanto deseas convertir? 2000\n",
            "2000.0 dolares son: 1500.0 libras esterlinas \n",
            "\n",
            "A que moneda deseas cambiar? 4\n",
            "El tipo de cambio es: 7.87\n",
            "Cuanto deseas convertir? 500\n",
            "500.0 dolares son: 3935.0 yuanes\n",
            "A que moneda deseas cambiar? 5\n",
            "El tipo de cambio es: 82\n",
            "Cuanto deseas convertir? 257639\n",
            "257639.0 dolares son: 21126398.0 rublos \n",
            "\n",
            "A que moneda deseas cambiar? 6\n",
            "Esa no es una opcion valida\n",
            "A que moneda deseas cambiar? 0\n",
            "Gracias, vuelva pronto. :) \n"
          ]
        }
      ]
    },
    {
      "cell_type": "markdown",
      "source": [
        "Desarrolla un programa que calcule el precio final de un producto después de aplicar un descuento. El usuario debe ingresar el precio original y el porcentaje de descuento. Imprima el precio final."
      ],
      "metadata": {
        "id": "B1NG2RlTxexj"
      }
    },
    {
      "cell_type": "code",
      "source": [
        "print(\"Bienvenido al calculador de descuentos. \")\n",
        "print(\"------------------------------------ \\n\")\n",
        "\n",
        "print(\"Presione 0 para salir \\n \")\n",
        "\n",
        "salir = False\n",
        "\n",
        "while salir == False:\n",
        "  precio_original = float(input(\"Cual es el precio original del producto? \"))\n",
        "  if precio_original == 0.0:\n",
        "    salir = True\n",
        "    break\n",
        "\n",
        "  descuento = float(input(\"Cual es el porcentaje de descuento? \"))\n",
        "\n",
        "\n",
        "  if precio_original != 0.0:\n",
        "   precio_final = precio_original - (precio_original * (descuento / 100))\n",
        "   print(\"El precio final del producto es: \" + str(precio_final) + \" \" + \"pesos \\n\")\n",
        "\n",
        "\n",
        "  else:\n",
        "    print(\"Esa no es una opcion valida \\n\")\n",
        "\n",
        "print(\"Gracias, vuelva pronto. :) \")\n"
      ],
      "metadata": {
        "colab": {
          "base_uri": "https://localhost:8080/"
        },
        "id": "5bnXOHmaxizc",
        "outputId": "4392fbdf-8287-4335-e944-d9e369caee45"
      },
      "execution_count": 21,
      "outputs": [
        {
          "output_type": "stream",
          "name": "stdout",
          "text": [
            "Bienvenido al calculador de descuentos. \n",
            "------------------------------------ \n",
            "\n",
            "Presione 0 para salir \n",
            " \n",
            "Cual es el precio original del producto? 400\n",
            "Cual es el porcentaje de descuento? 34\n",
            "El precio final del producto es: 264.0 pesos \n",
            "\n",
            "Cual es el precio original del producto? 500\n",
            "Cual es el porcentaje de descuento? 0\n",
            "El precio final del producto es: 500.0 pesos \n",
            "\n",
            "Cual es el precio original del producto? 0\n",
            "Gracias, vuelva pronto. :) \n"
          ]
        }
      ]
    },
    {
      "cell_type": "code",
      "source": [
        "#Crea un script que determine cuál de tres números introducidos por el usuario es el mayor,\n",
        "#usando sentencias IF anidadas o múltiples ELIF.\n",
        "\n",
        "\n",
        "def mayor_menor():\n",
        "  lista_final = []\n",
        "\n",
        "  num_usuario = int(input(\"Ingresa un numero \"))\n",
        "  lista_final.append(num_usuario)\n",
        "\n",
        "  if len(lista_final) < 3:\n",
        "    num_usuario = int(input(\"Ingresa un numero \"))\n",
        "    lista_final.append(num_usuario)\n",
        "\n",
        "    if len(lista_final) < 3:\n",
        "      num_usuario = int(input(\"Ingresa un numero \"))\n",
        "      lista_final.append(num_usuario)\n",
        "\n",
        "\n",
        "  print(\"\\n\")\n",
        "  print(\"El numero mayor es: \" + str(max(lista_final)))\n",
        "  print(\"El numero menor es: \" + str(min(lista_final)))\n",
        "\n",
        "mayor_menor()\n",
        "\n",
        "\n",
        "\n",
        "\n"
      ],
      "metadata": {
        "colab": {
          "base_uri": "https://localhost:8080/"
        },
        "id": "uoieML7ZMceK",
        "outputId": "5cb36c62-0940-413a-e609-1240dae744c6"
      },
      "execution_count": 51,
      "outputs": [
        {
          "output_type": "stream",
          "name": "stdout",
          "text": [
            "Ingresa un numero 1\n",
            "Ingresa un numero 2\n",
            "Ingresa un numero 3\n",
            "\n",
            "\n",
            "El numero mayor es: 3\n",
            "El numero menor es: 1\n"
          ]
        }
      ]
    },
    {
      "cell_type": "code",
      "source": [
        "# Otra forma de hacer el ejercicio 3\n",
        "\n",
        "lista_final = []\n",
        "\n",
        "while len(lista_final) < 3:\n",
        "  num_usuario = (input(\"Ingresa un numero \"))\n",
        "  lista_final.append(num_usuario)\n",
        "\n",
        "print(\"\\n\")\n",
        "print(\"El numero mayor es: \" + str(max(lista_final)))\n",
        "print(\"El numero menor es: \" + str(min(lista_final)))\n",
        "\n"
      ],
      "metadata": {
        "colab": {
          "base_uri": "https://localhost:8080/"
        },
        "id": "iZxDsjcQUIrS",
        "outputId": "a2ae6121-3e82-4180-9479-09ba87d8d7b6"
      },
      "execution_count": 59,
      "outputs": [
        {
          "output_type": "stream",
          "name": "stdout",
          "text": [
            "Ingresa un numero 1\n",
            "Ingresa un numero 2\n",
            "Ingresa un numero 3\n",
            "\n",
            "\n",
            "El numero mayor es: 3\n",
            "El numero menor es: 1\n"
          ]
        }
      ]
    },
    {
      "cell_type": "code",
      "source": [
        "# Escriba una función que reciba una lista de números y devuelva dos listas:\n",
        "# una con los números positivos y otra con los negativos.\n",
        "\n",
        "\n",
        "lista_positiva = []\n",
        "lista_negativa = []\n",
        "\n",
        "print(\"Presione 0 para salir \\n\")\n",
        "\n",
        "def lista_mayor_menor():\n",
        "  while True:\n",
        "    elemento_lista = float(input(\"Ingresa un numero \"))\n",
        "    if elemento_lista > 0:\n",
        "      lista_positiva.append(elemento_lista)\n",
        "    elif elemento_lista < 0:\n",
        "      lista_negativa.append(elemento_lista)\n",
        "    elif elemento_lista == 0: # Se utiliza 0 como boton de salir, ya que 0 no es posotivo ni negativo\n",
        "      break\n",
        "\n",
        "  print(\"\\n\")\n",
        "  print(\"Negativos: \")\n",
        "  print(lista_negativa)\n",
        "  print(\"\\n\")\n",
        "  print(\"Positivos: \")\n",
        "  print(lista_positiva)\n",
        "\n",
        "\n",
        "lista_mayor_menor()\n",
        "\n",
        "\n",
        ""
      ],
      "metadata": {
        "colab": {
          "base_uri": "https://localhost:8080/"
        },
        "id": "RlXwGGAQqOkd",
        "outputId": "2800b971-6cf6-4e02-b285-dfd5d42f5ce1"
      },
      "execution_count": 58,
      "outputs": [
        {
          "output_type": "stream",
          "name": "stdout",
          "text": [
            "Presione 0 para salir \n",
            "\n",
            "Ingresa un numero 3\n",
            "Ingresa un numero 4\n",
            "Ingresa un numero -6\n",
            "Ingresa un numero 3.5\n",
            "Ingresa un numero -9.8\n",
            "Ingresa un numero 0\n",
            "\n",
            "\n",
            "Negativos: \n",
            "[-6.0, -9.8]\n",
            "\n",
            "\n",
            "Positivos: \n",
            "[3.0, 4.0, 3.5]\n"
          ]
        }
      ]
    }
  ]
}