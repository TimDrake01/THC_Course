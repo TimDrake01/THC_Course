{
  "nbformat": 4,
  "nbformat_minor": 0,
  "metadata": {
    "colab": {
      "provenance": [],
      "authorship_tag": "ABX9TyPlq++Mips5a+tcAPBwvdFU",
      "include_colab_link": true
    },
    "kernelspec": {
      "name": "python3",
      "display_name": "Python 3"
    },
    "language_info": {
      "name": "python"
    }
  },
  "cells": [
    {
      "cell_type": "markdown",
      "metadata": {
        "id": "view-in-github",
        "colab_type": "text"
      },
      "source": [
        "<a href=\"https://colab.research.google.com/github/TimDrake01/THC_Course/blob/main/Tarea_4.ipynb\" target=\"_parent\"><img src=\"https://colab.research.google.com/assets/colab-badge.svg\" alt=\"Open In Colab\"/></a>"
      ]
    },
    {
      "cell_type": "code",
      "execution_count": null,
      "metadata": {
        "id": "5endGDYwCYsc"
      },
      "outputs": [],
      "source": []
    },
    {
      "cell_type": "markdown",
      "source": [
        "\"\"\" Diseña un programa que convierta dólares americanos a pesos mexicanos, euros, libras esterlinas,\n",
        "yuanes y rublos utilizando una tasa de cambio fija. Muestre la tasa de cambio e imprima los cinco resultados.\"\"\""
      ],
      "metadata": {
        "id": "BG3hQ9MPC4F9"
      }
    },
    {
      "cell_type": "code",
      "source": [
        "print(\"Bienvenido al conversor de divisas. \")\n",
        "print(\"------------------------------------ \\n\")\n",
        "print(\"Puedes convertir dolares americanos a: \\n - 1 pesos mexicanos \\n \"\n",
        "\"- 2 euros \\n - 3 libras esterlinas \\n - 4 yuanes \\n - 5 rublos \\n\")\n",
        "\n",
        "tipo_de_cambio = { \"pesos mexicanos\" : \"19.61\",\n",
        "                  \"euros\" : \"0.88\",\n",
        "                  \"libras esterlinas\" : \"0.75\",\n",
        "                  \"yuanes\" : \"7.87\",\n",
        "                  \"rublos\" : \"82\" }\n",
        "\n",
        "\n",
        "print(\"Para salir, presione 0 \\n\")\n",
        "\n",
        "\n",
        "def convertidor():\n",
        "  opcion = None\n",
        "  while opcion != 0:\n",
        "    opcion = int(input(\"A que moneda deseas cambiar? \"))\n",
        "\n",
        "    if opcion == 1:\n",
        "      print(\"El tipo de cambio es: \" + tipo_de_cambio[\"pesos mexicanos\"])\n",
        "      monto = float(input(\"Cuanto deseas convertir? \"))\n",
        "      resultado = monto * float(tipo_de_cambio[\"pesos mexicanos\"])\n",
        "      print(str(monto) + \" \" + \"dolares son: \" + str(resultado) + \" \" + \"pesos mexicanos\")\n",
        "\n",
        "    elif opcion == 2:\n",
        "      print(\"El tipo de cambio es: \" + tipo_de_cambio[\"euros\"])\n",
        "      monto = float(input(\"Cuanto deseas convertir? \"))\n",
        "      resultado = monto * float(tipo_de_cambio[\"euros\"])\n",
        "      print(str(monto) + \" \" + \"dolares son: \" + str(resultado) + \" \" + \"euros\")\n",
        "\n",
        "    elif opcion == 3:\n",
        "      print(\"El tipo de cambio es: \" + tipo_de_cambio[\"libras esterlinas\"])\n",
        "      monto = float(input(\"Cuanto deseas convertir? \"))\n",
        "      resultado = monto * float(tipo_de_cambio[\"libras esterlinas\"])\n",
        "      print(str(monto) + \" \" + \"dolares son: \" + str(resultado) + \" \" + \"libras esterlinas\")\n",
        "\n",
        "    elif opcion == 4:\n",
        "      print(\"El tipo de cambio es: \" + tipo_de_cambio[\"yuanes\"])\n",
        "      monto = float(input(\"Cuanto deseas convertir? \"))\n",
        "      resultado = monto * float(tipo_de_cambio[\"yuanes\"])\n",
        "      print(str(monto) + \" \" + \"dolares son: \" + str(resultado) + \" \" + \"yuanes\")\n",
        "\n",
        "    elif opcion == 5:\n",
        "      print(\"El tipo de cambio es: \" + tipo_de_cambio[\"rublos\"])\n",
        "      monto = float(input(\"Cuanto deseas convertir? \"))\n",
        "      resultado = monto * float(tipo_de_cambio[\"rublos\"])\n",
        "      print(str(monto) + \" \" + \"dolares son: \" + str(resultado) + \" \" + \"rublos\")\n",
        "\n",
        "    elif opcion == 0:\n",
        "      break\n",
        "\n",
        "    else:\n",
        "      print(\"Esa no es una opcion valida\")\n",
        "\n",
        "  print(\"Gracias, vuelva pronto. :) \")\n",
        "\n",
        "convertidor()\n",
        "\n"
      ],
      "metadata": {
        "colab": {
          "base_uri": "https://localhost:8080/"
        },
        "id": "6rfXfnCWC6Hk",
        "outputId": "9d642dca-2812-43e5-daf6-82204035369b"
      },
      "execution_count": 10,
      "outputs": [
        {
          "output_type": "stream",
          "name": "stdout",
          "text": [
            "Bienvenido al conversor de divisas. \n",
            "------------------------------------ \n",
            "\n",
            "Puedes convertir dolares americanos a: \n",
            " - 1 pesos mexicanos \n",
            " - 2 euros \n",
            " - 3 libras esterlinas \n",
            " - 4 yuanes \n",
            " - 5 rublos \n",
            "\n",
            "Para salir, presione 0 \n",
            "\n",
            "A que moneda deseas cambiar? 1\n",
            "El tipo de cambio es: 19.61\n",
            "Cuanto deseas convertir? 3400\n",
            "3400.0 dolares son: 66674.0 pesos mexicanos\n",
            "A que moneda deseas cambiar? 2\n",
            "El tipo de cambio es: 0.88\n",
            "Cuanto deseas convertir? 8765\n",
            "8765.0 dolares son: 7713.2 euros\n",
            "A que moneda deseas cambiar? 3\n",
            "El tipo de cambio es: 0.75\n",
            "Cuanto deseas convertir? 49876\n",
            "49876.0 dolares son: 37407.0 libras esterlinas\n",
            "A que moneda deseas cambiar? 4\n",
            "El tipo de cambio es: 7.87\n",
            "Cuanto deseas convertir? 200\n",
            "200.0 dolares son: 1574.0 yuanes\n",
            "A que moneda deseas cambiar? 5\n",
            "El tipo de cambio es: 82\n",
            "Cuanto deseas convertir? 4500\n",
            "4500.0 dolares son: 369000.0 rublos\n",
            "A que moneda deseas cambiar? 6\n",
            "Esa no es una opcion valida\n",
            "A que moneda deseas cambiar? 0\n",
            "Gracias, vuelva pronto. :) \n"
          ]
        }
      ]
    },
    {
      "cell_type": "markdown",
      "source": [
        "Desarrolla un programa que calcule el precio final de un producto después de aplicar un descuento. El usuario debe ingresar el precio original y el porcentaje de descuento. Imprima el precio final."
      ],
      "metadata": {
        "id": "B1NG2RlTxexj"
      }
    },
    {
      "cell_type": "code",
      "source": [
        "print(\"Bienvenido al calculador de descuentos. \")\n",
        "print(\"------------------------------------ \\n\")\n",
        "\n",
        "print(\"Presione 0 para salir \\n \")\n",
        "\n",
        "salir = False\n",
        "\n",
        "while salir == False:\n",
        "  precio_original = float(input(\"Cual es el precio original del producto? \"))\n",
        "  if precio_original == 0.0:\n",
        "    salir = True\n",
        "    break\n",
        "\n",
        "  descuento = float(input(\"Cual es el porcentaje de descuento? \"))\n",
        "\n",
        "\n",
        "  if precio_original != 0.0:\n",
        "   precio_final = precio_original - (precio_original * (descuento / 100))\n",
        "   print(\"El precio final del producto es: \" + str(precio_final))\n",
        "\n",
        "\n",
        "  else:\n",
        "    print(\"Esa no es una opcion valida\")\n",
        "\n",
        "print(\"Gracias, vuelva pronto. :) \")\n"
      ],
      "metadata": {
        "colab": {
          "base_uri": "https://localhost:8080/"
        },
        "id": "5bnXOHmaxizc",
        "outputId": "c6c20a38-4836-4d6f-a8d2-bd2e5c750621"
      },
      "execution_count": 9,
      "outputs": [
        {
          "output_type": "stream",
          "name": "stdout",
          "text": [
            "Bienvenido al calculador de descuentos. \n",
            "------------------------------------ \n",
            "\n",
            "Presione 0 para salir \n",
            " \n",
            "Cual es el precio original del producto? 500\n",
            "Cual es el porcentaje de descuento? 0\n",
            "El precio final del producto es: 500.0\n",
            "Cual es el precio original del producto? 230\n",
            "Cual es el porcentaje de descuento? 5\n",
            "El precio final del producto es: 218.5\n",
            "Cual es el precio original del producto? 0\n",
            "Gracias, vuelva pronto. :) \n"
          ]
        }
      ]
    }
  ]
}