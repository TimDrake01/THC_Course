{
  "nbformat": 4,
  "nbformat_minor": 0,
  "metadata": {
    "colab": {
      "provenance": [],
      "authorship_tag": "ABX9TyN3wQl5/OjskGQhaDSJFN0m",
      "include_colab_link": true
    },
    "kernelspec": {
      "name": "python3",
      "display_name": "Python 3"
    },
    "language_info": {
      "name": "python"
    }
  },
  "cells": [
    {
      "cell_type": "markdown",
      "metadata": {
        "id": "view-in-github",
        "colab_type": "text"
      },
      "source": [
        "<a href=\"https://colab.research.google.com/github/TimDrake01/THC_Course/blob/main/Tarea_4.ipynb\" target=\"_parent\"><img src=\"https://colab.research.google.com/assets/colab-badge.svg\" alt=\"Open In Colab\"/></a>"
      ]
    },
    {
      "cell_type": "code",
      "execution_count": null,
      "metadata": {
        "id": "5endGDYwCYsc"
      },
      "outputs": [],
      "source": []
    },
    {
      "cell_type": "markdown",
      "source": [
        "\"\"\" Diseña un programa que convierta dólares americanos a pesos mexicanos, euros, libras esterlinas,\n",
        "yuanes y rublos utilizando una tasa de cambio fija. Muestre la tasa de cambio e imprima los cinco resultados.\"\"\""
      ],
      "metadata": {
        "id": "BG3hQ9MPC4F9"
      }
    },
    {
      "cell_type": "code",
      "source": [
        "print(\"Bienvenido al conversor de divisas. \")\n",
        "print(\"------------------------------------ \\n\")\n",
        "print(\"Puedes convertir dolares americanos a: \\n - 1 pesos mexicanos \\n \"\n",
        "\"- 2 euros \\n - 3 libras esterlinas \\n - 4 yuanes \\n - 5 rublos \\n\")\n",
        "\n",
        "tipo_de_cambio = { \"pesos mexicanos\" : \"19.61\",\n",
        "                  \"euros\" : \"0.88\",\n",
        "                  \"libras esterlinas\" : \"0.75\",\n",
        "                  \"yuanes\" : \"7.87\",\n",
        "                  \"rublos\" : \"82\" }\n",
        "\n",
        "\n",
        "print(\"Para salir, presione 0 \\n\")\n",
        "\n",
        "\n",
        "def convertidor():\n",
        "  opcion = None\n",
        "  while opcion != 0:\n",
        "    opcion = int(input(\"A que moneda deseas cambiar? \"))\n",
        "    if opcion == 1:\n",
        "      print(\"El tipo de cambio es: \" + tipo_de_cambio[\"pesos mexicanos\"])\n",
        "      monto = float(input(\"Cuanto deseas convertir? \"))\n",
        "      resultado = monto * float(tipo_de_cambio[\"pesos mexicanos\"])\n",
        "      print(str(monto) + \" \" + \"dolares son: \" + str(resultado) + \" \" + \"pesos mexicanos\")\n",
        "    elif opcion == 2:\n",
        "      print(\"El tipo de cambio es: \" + tipo_de_cambio[\"euros\"])\n",
        "      monto = float(input(\"Cuanto deseas convertir? \"))\n",
        "      resultado = monto * float(tipo_de_cambio[\"euros\"])\n",
        "      print(str(monto) + \" \" + \"dolares son: \" + str(resultado) + \" \" + \"euros\")\n",
        "    elif opcion == 3:\n",
        "      print(\"El tipo de cambio es: \" + tipo_de_cambio[\"libras esterlinas\"])\n",
        "      monto = float(input(\"Cuanto deseas convertir? \"))\n",
        "      resultado = monto * float(tipo_de_cambio[\"libras esterlinas\"])\n",
        "      print(str(monto) + \" \" + \"dolares son: \" + str(resultado) + \" \" + \"libras esterlinas\")\n",
        "    elif opcion == 4:\n",
        "      print(\"El tipo de cambio es: \" + tipo_de_cambio[\"yuanes\"])\n",
        "      monto = float(input(\"Cuanto deseas convertir? \"))\n",
        "      resultado = monto * float(tipo_de_cambio[\"yuanes\"])\n",
        "      print(str(monto) + \" \" + \"dolares son: \" + str(resultado) + \" \" + \"yuanes\")\n",
        "    elif opcion == 5:\n",
        "      print(\"El tipo de cambio es: \" + tipo_de_cambio[\"rublos\"])\n",
        "      monto = float(input(\"Cuanto deseas convertir? \"))\n",
        "      resultado = monto * float(tipo_de_cambio[\"rublos\"])\n",
        "      print(str(monto) + \" \" + \"dolares son: \" + str(resultado) + \" \" + \"rublos\")\n",
        "    elif opcion == 0:\n",
        "      break\n",
        "    else:\n",
        "      print(\"Esa no es una opcion valida\")\n",
        "\n",
        "\n",
        "  print(\"Gracias, vuelva pronto. :) \")\n",
        "\n",
        "convertidor()\n",
        "\n"
      ],
      "metadata": {
        "colab": {
          "base_uri": "https://localhost:8080/"
        },
        "id": "6rfXfnCWC6Hk",
        "outputId": "c42c7f7e-0a0d-4f45-8280-be8cb7ddd574"
      },
      "execution_count": 14,
      "outputs": [
        {
          "output_type": "stream",
          "name": "stdout",
          "text": [
            "Bienvenido al conversor de divisas. \n",
            "------------------------------------ \n",
            "\n",
            "Puedes convertir dolares americanos a: \n",
            " - 1 pesos mexicanos \n",
            " - 2 euros \n",
            " - 3 libras esterlinas \n",
            " - 4 yuanes \n",
            " - 5 rublos \n",
            "\n",
            "Para salir, presione 0 \n",
            "\n",
            "A que moneda deseas cambiar? 0\n",
            "Gracias, vuelva pronto. :) \n"
          ]
        }
      ]
    },
    {
      "cell_type": "code",
      "source": [],
      "metadata": {
        "id": "VHWL-XTtDnd2"
      },
      "execution_count": null,
      "outputs": []
    }
  ]
}