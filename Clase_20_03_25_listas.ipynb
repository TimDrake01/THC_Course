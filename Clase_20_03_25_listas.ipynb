{
  "nbformat": 4,
  "nbformat_minor": 0,
  "metadata": {
    "colab": {
      "provenance": [],
      "authorship_tag": "ABX9TyN1AwnLUKSbW5RzYpWnjI3e",
      "include_colab_link": true
    },
    "kernelspec": {
      "name": "python3",
      "display_name": "Python 3"
    },
    "language_info": {
      "name": "python"
    }
  },
  "cells": [
    {
      "cell_type": "markdown",
      "metadata": {
        "id": "view-in-github",
        "colab_type": "text"
      },
      "source": [
        "<a href=\"https://colab.research.google.com/github/TimDrake01/THC_Course/blob/main/Clase_20_03_25_listas.ipynb\" target=\"_parent\"><img src=\"https://colab.research.google.com/assets/colab-badge.svg\" alt=\"Open In Colab\"/></a>"
      ]
    },
    {
      "cell_type": "code",
      "execution_count": 5,
      "metadata": {
        "colab": {
          "base_uri": "https://localhost:8080/"
        },
        "id": "DMhQuDfb7ReV",
        "outputId": "5f55e3d9-49c6-4c7e-bbdf-3761a0ceeba5"
      },
      "outputs": [
        {
          "output_type": "stream",
          "name": "stdout",
          "text": [
            "['manzana', 'pera', 'naranja', 'kiwi']\n"
          ]
        }
      ],
      "source": [
        "frutas = [\"manzana\", \"pera\", \"naranja\", \"kiwi\"]\n",
        "#frutas.remove (\"pera\")\n",
        "print(frutas)"
      ]
    },
    {
      "cell_type": "code",
      "source": [
        "for i in range(len(frutas)):\n",
        "  print(frutas[i])"
      ],
      "metadata": {
        "colab": {
          "base_uri": "https://localhost:8080/"
        },
        "id": "4lDetFphBdJa",
        "outputId": "828aefe3-9c09-4b9e-b7d5-40e98bae5605"
      },
      "execution_count": 7,
      "outputs": [
        {
          "output_type": "stream",
          "name": "stdout",
          "text": [
            "manzana\n",
            "pera\n",
            "naranja\n",
            "kiwi\n"
          ]
        }
      ]
    },
    {
      "cell_type": "code",
      "source": [
        "numeros = [1.2,5,6,10.2,5.3,3,9,8,7,1.36]\n",
        "sum = 0\n",
        "for i in numeros:\n",
        "  decimales = i - int(i)\n",
        "  if decimales == 0.0:\n",
        "    sum = sum + i\n",
        "  print(sum)\n",
        "\n",
        "\n"
      ],
      "metadata": {
        "colab": {
          "base_uri": "https://localhost:8080/"
        },
        "id": "R90NOxsrCc07",
        "outputId": "d7809ee3-4a92-4ef5-c3a8-5c2bafbb0e04"
      },
      "execution_count": 4,
      "outputs": [
        {
          "output_type": "stream",
          "name": "stdout",
          "text": [
            "0\n",
            "5\n",
            "11\n",
            "11\n",
            "11\n",
            "14\n",
            "23\n",
            "31\n",
            "38\n",
            "38\n"
          ]
        }
      ]
    },
    {
      "cell_type": "markdown",
      "source": [],
      "metadata": {
        "id": "xqGIawU78V_X"
      }
    }
  ]
}