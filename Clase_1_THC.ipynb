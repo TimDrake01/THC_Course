{
  "nbformat": 4,
  "nbformat_minor": 0,
  "metadata": {
    "colab": {
      "provenance": [],
      "authorship_tag": "ABX9TyMEDSDuJ7C6vWHiUZyHDCOR",
      "include_colab_link": true
    },
    "kernelspec": {
      "name": "python3",
      "display_name": "Python 3"
    },
    "language_info": {
      "name": "python"
    }
  },
  "cells": [
    {
      "cell_type": "markdown",
      "metadata": {
        "id": "view-in-github",
        "colab_type": "text"
      },
      "source": [
        "<a href=\"https://colab.research.google.com/github/TimDrake01/THC_Course/blob/main/Clase_1_THC.ipynb\" target=\"_parent\"><img src=\"https://colab.research.google.com/assets/colab-badge.svg\" alt=\"Open In Colab\"/></a>"
      ]
    },
    {
      "cell_type": "code",
      "execution_count": 2,
      "metadata": {
        "colab": {
          "base_uri": "https://localhost:8080/"
        },
        "id": "TSIE7SLZs-1_",
        "outputId": "27141d88-c9c1-4349-c710-1462a96dafdd"
      },
      "outputs": [
        {
          "output_type": "stream",
          "name": "stdout",
          "text": [
            "35 Andrés\n",
            "Hola mundo\n",
            "Este es mi primer programa en python\n"
          ]
        }
      ],
      "source": [
        "x=35 # variable de tipo entero\n",
        "y=\"Andrés\" # variable de tipo cadena (string)\n",
        "print(x,y) # comando para mostrar en pantalla el contenido de las variables\n",
        "\n",
        "z=\"Hola mundo\"\n",
        "print(z)\n",
        "\n",
        "xy=\"Este es mi primer programa en python\"\n",
        "print(xy)\n",
        "\n"
      ]
    }
  ]
}