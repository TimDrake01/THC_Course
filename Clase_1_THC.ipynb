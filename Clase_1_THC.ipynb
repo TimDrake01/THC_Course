{
  "nbformat": 4,
  "nbformat_minor": 0,
  "metadata": {
    "colab": {
      "provenance": [],
      "include_colab_link": true
    },
    "kernelspec": {
      "name": "python3",
      "display_name": "Python 3"
    },
    "language_info": {
      "name": "python"
    }
  },
  "cells": [
    {
      "cell_type": "markdown",
      "metadata": {
        "id": "view-in-github",
        "colab_type": "text"
      },
      "source": [
        "<a href=\"https://colab.research.google.com/github/TimDrake01/THC_Course/blob/main/Clase_1_THC.ipynb\" target=\"_parent\"><img src=\"https://colab.research.google.com/assets/colab-badge.svg\" alt=\"Open In Colab\"/></a>"
      ]
    },
    {
      "cell_type": "code",
      "execution_count": null,
      "metadata": {
        "colab": {
          "base_uri": "https://localhost:8080/"
        },
        "id": "TSIE7SLZs-1_",
        "outputId": "27141d88-c9c1-4349-c710-1462a96dafdd"
      },
      "outputs": [
        {
          "output_type": "stream",
          "name": "stdout",
          "text": [
            "35 Andrés\n",
            "Hola mundo\n",
            "Este es mi primer programa en python\n"
          ]
        }
      ],
      "source": [
        "x=35 # variable de tipo entero\n",
        "y=\"Andrés\" # variable de tipo cadena (string)\n",
        "print(x,y) # comando para mostrar en pantalla el contenido de las variables\n",
        "\n",
        "z=\"Hola mundo\"\n",
        "print(z)\n",
        "\n",
        "xy=\"Este es mi primer programa en python\"\n",
        "print(xy)\n",
        "\n",
        "\n"
      ]
    },
    {
      "cell_type": "code",
      "source": [
        "#Casteo\n",
        "\n",
        "x_1=int(3) # Especificamos que x_1 sea un siempre un entero (int)\n",
        "y_1=float(6) # Especificamos que y_1 sea un decimal o flotante (float)\n",
        "z_1=str(6) # Transforma un número en cadena (string)\n",
        "\n",
        "print(type(x_1), type(y_1), type(z_1))\n"
      ],
      "metadata": {
        "colab": {
          "base_uri": "https://localhost:8080/"
        },
        "id": "cVZshnMwzdsZ",
        "outputId": "1c8ab326-839b-4715-9928-7aef85467de8"
      },
      "execution_count": null,
      "outputs": [
        {
          "output_type": "stream",
          "name": "stdout",
          "text": [
            "<class 'int'> <class 'float'> <class 'str'>\n"
          ]
        }
      ]
    },
    {
      "cell_type": "code",
      "source": [
        "nombre_1=\"Andres Martinez\"\n",
        "nombre_2=\"Andres Mtz\"\n",
        "\n",
        "print(nombre_1 + nombre_2) # Se pueden sumar cadenas (strings)\n",
        "\n",
        "print(nombre_1, nombre_2)"
      ],
      "metadata": {
        "id": "I_-8bZOQ1LOE",
        "colab": {
          "base_uri": "https://localhost:8080/"
        },
        "outputId": "b117f4b1-9c40-4cf8-e16d-c2a2bbd9e468"
      },
      "execution_count": 2,
      "outputs": [
        {
          "output_type": "stream",
          "name": "stdout",
          "text": [
            "Andres MartinezAndres Mtz\n",
            "Andres Martinez Andres Mtz\n"
          ]
        }
      ]
    }
  ]
}