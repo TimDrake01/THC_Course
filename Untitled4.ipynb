{
  "nbformat": 4,
  "nbformat_minor": 0,
  "metadata": {
    "colab": {
      "provenance": [],
      "authorship_tag": "ABX9TyOntmmbOXAtiKJb1SHIa11H",
      "include_colab_link": true
    },
    "kernelspec": {
      "name": "python3",
      "display_name": "Python 3"
    },
    "language_info": {
      "name": "python"
    }
  },
  "cells": [
    {
      "cell_type": "markdown",
      "metadata": {
        "id": "view-in-github",
        "colab_type": "text"
      },
      "source": [
        "<a href=\"https://colab.research.google.com/github/TimDrake01/THC_Course/blob/main/Untitled4.ipynb\" target=\"_parent\"><img src=\"https://colab.research.google.com/assets/colab-badge.svg\" alt=\"Open In Colab\"/></a>"
      ]
    },
    {
      "cell_type": "code",
      "execution_count": 4,
      "metadata": {
        "colab": {
          "base_uri": "https://localhost:8080/"
        },
        "id": "jA9KuHRLvc6t",
        "outputId": "41ecefc6-1867-483d-a7d4-22849bb06ac5"
      },
      "outputs": [
        {
          "output_type": "stream",
          "name": "stdout",
          "text": [
            "Por favor ingresa la palabra separada por espacios\n",
            "Que palabra quieres encriptar? p e r r o\n",
            "['p#', 'p%', 'p@', 'p!', 'p2', 'e#', 'e%', 'e@', 'e!', 'e2', 'r#', 'r%', 'r@', 'r!', 'r2', 'r#', 'r%', 'r@', 'r!', 'r2', 'o#', 'o%', 'o@', 'o!', 'o2']\n"
          ]
        }
      ],
      "source": [
        "\"\"\"caracteres = [\"#\", \"%\", \"@\", \"!\", \"2\"]\n",
        "print(\"Por favor ingresa la palabra separada por espacios\")\n",
        "palabra_encriptada = []\n",
        "palabra_usuario = input(\"Que palabra quieres encriptar? \")\n",
        "palabra_nueva = palabra_usuario.split()\n",
        "for i in palabra_nueva:\n",
        "  for j in caracteres:\n",
        "    palabra_encriptada.append(i + j)\n",
        "\n",
        "print(palabra_encriptada)\"\"\""
      ]
    },
    {
      "cell_type": "code",
      "source": [
        "import random\n",
        "word = input(\"Que palabra quieres encriptar? \")\n",
        "chars = [\"#\", \"%\", \"@\", \"!\", \"2\"]\n",
        "random.shuffle(chars)\n",
        "\n",
        "EncWord = \"\"\n",
        "for i in range(len(word)):\n",
        "  if len(word) > len(chars):\n",
        "    chars.append(\"#\")\n",
        "    chars.append(\"%\")\n",
        "    chars.append(\"@\")\n",
        "    chars.append(\"!\")\n",
        "    chars.append(\"2\")\n",
        "  EncWord += chars[i] + word[i]\n",
        "\n",
        "print(\"Tu palabra encriptada es: \" + EncWord)"
      ],
      "metadata": {
        "colab": {
          "base_uri": "https://localhost:8080/"
        },
        "id": "1LJ8xRwB2oxq",
        "outputId": "8a571e04-8ce1-418a-b47e-0255f5d55de8"
      },
      "execution_count": 23,
      "outputs": [
        {
          "output_type": "stream",
          "name": "stdout",
          "text": [
            "Que palabra quieres encriptar? parangaracutirimicuaro\n",
            "Tu palabra encriptada es: %p@a#r2a!n#g%a@r!a2c#u%t@i!r2i#m%i@c!u2a#r%o\n"
          ]
        }
      ]
    },
    {
      "cell_type": "markdown",
      "source": [
        "- Funciones -"
      ],
      "metadata": {
        "id": "SrxU4HF0_5_X"
      }
    },
    {
      "cell_type": "code",
      "source": [
        "def mi_funcion(nombre): # paraetro de la funcion\n",
        "  if type(nombre) == str:\n",
        "    print(\"hola \" + nombre)\n",
        "  else:\n",
        "    print(\"Se necesita ingresar una cadena \")\n",
        "mi_funcion(\"andres\")  # se requiere ingresar el parametro que pide entre los parentesis\n",
        ""
      ],
      "metadata": {
        "colab": {
          "base_uri": "https://localhost:8080/"
        },
        "id": "DtS98H9m_4vt",
        "outputId": "e3f4fc54-1288-4a8f-a8d3-26c258fe2796"
      },
      "execution_count": 26,
      "outputs": [
        {
          "output_type": "stream",
          "name": "stdout",
          "text": [
            "hola andres\n"
          ]
        }
      ]
    },
    {
      "cell_type": "code",
      "source": [
        "def mi_funcion2(N = \"Andres\", ap = \"Mtz\"):\n",
        "\n",
        "  if type(N) == str and type(ap) == str:\n",
        "    print(\"Hola, soy \" + N + ap)\n",
        "  else:\n",
        "    print(\"Se necesita una cadena \")\n",
        "mi_funcion2(\"Pedro \", \"Flores \")"
      ],
      "metadata": {
        "colab": {
          "base_uri": "https://localhost:8080/"
        },
        "id": "gTQmvQImkL8n",
        "outputId": "9f80683c-41c5-4fb4-aa52-e67c3353ff61"
      },
      "execution_count": 5,
      "outputs": [
        {
          "output_type": "stream",
          "name": "stdout",
          "text": [
            "Hola, soy Pedro Flores \n"
          ]
        }
      ]
    }
  ]
}