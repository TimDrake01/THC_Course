{
  "nbformat": 4,
  "nbformat_minor": 0,
  "metadata": {
    "colab": {
      "provenance": [],
      "authorship_tag": "ABX9TyP2Yu8IMuvVeMrhgcj2oCc/",
      "include_colab_link": true
    },
    "kernelspec": {
      "name": "python3",
      "display_name": "Python 3"
    },
    "language_info": {
      "name": "python"
    }
  },
  "cells": [
    {
      "cell_type": "markdown",
      "metadata": {
        "id": "view-in-github",
        "colab_type": "text"
      },
      "source": [
        "<a href=\"https://colab.research.google.com/github/TimDrake01/THC_Course/blob/main/THC.%20Clase%2013/03/25.ipynb\" target=\"_parent\"><img src=\"https://colab.research.google.com/assets/colab-badge.svg\" alt=\"Open In Colab\"/></a>"
      ]
    },
    {
      "cell_type": "code",
      "execution_count": 4,
      "metadata": {
        "colab": {
          "base_uri": "https://localhost:8080/"
        },
        "id": "dl55crcUQcwR",
        "outputId": "0de7eac1-db9d-45f7-c78f-992d9a12c3de"
      },
      "outputs": [
        {
          "output_type": "stream",
          "name": "stdout",
          "text": [
            "Dame un numero entero 5.4\n",
            "5.4no es entero\n",
            "El res: 2.0\n",
            "El res: 1.0\n",
            "El res: 0.0\n",
            "Ya no se puede dividir\n"
          ]
        }
      ],
      "source": [
        "n=float(input('Dame un numero entero '))\n",
        "decimales = n - int(n)\n",
        "#print(decimales)\n",
        "if decimales == 0.0:\n",
        "    print(str(n) + ' Es un numero entero ')\n",
        "    n = int(n)\n",
        "    sum = n\n",
        "    for Num in range(n):\n",
        "        sum = sum + Num\n",
        "    print('La suma es ' + str(sum))\n",
        "else:\n",
        "    print(str(n)+ 'no es entero')\n",
        "\n",
        "    DivEnt = n\n",
        "\n",
        "    while DivEnt !=0:\n",
        "      DivEnt = n//2\n",
        "      n=DivEnt\n",
        "      print('El res: '+str(DivEnt))\n",
        "\n",
        "    else:\n",
        "        print('Ya no se puede dividir')\n"
      ]
    },
    {
      "cell_type": "markdown",
      "source": [],
      "metadata": {
        "id": "Fww6pVOiQiWz"
      }
    },
    {
      "cell_type": "code",
      "source": [
        "import random\n",
        "\n",
        "Num_sec=random.randint(1,20)\n",
        "\n",
        "intento = 1\n",
        "\n",
        "while intento < 6:\n",
        "  num=int(input(\"ingresa un numero entero del 1 al 20: \"))\n",
        "\n",
        "  if num < Num_sec:\n",
        "    print(\"Tu numero es mas chico\")\n",
        "  elif num > Num_sec:\n",
        "    print(\"Tu numero es mas grande\")\n",
        "\n",
        "  else:\n",
        "      print(\"Le atinaste!\")\n",
        "      break\n",
        "\n",
        "  intento += 1\n",
        "\n",
        "print\n"
      ],
      "metadata": {
        "colab": {
          "base_uri": "https://localhost:8080/"
        },
        "id": "rIONl6zXQjel",
        "outputId": "341db978-04da-4ba5-ca44-3c3b5ec77f82"
      },
      "execution_count": 2,
      "outputs": [
        {
          "output_type": "stream",
          "name": "stdout",
          "text": [
            "ingresa un numero entero del 1 al 20: 20\n",
            "Tu numero es mas grande\n",
            "ingresa un numero entero del 1 al 20: 12\n",
            "Tu numero es mas grande\n",
            "ingresa un numero entero del 1 al 20: 8\n",
            "Tu numero es mas grande\n",
            "ingresa un numero entero del 1 al 20: 5\n",
            "Tu numero es mas grande\n",
            "ingresa un numero entero del 1 al 20: 4\n",
            "Tu numero es mas grande\n"
          ]
        }
      ]
    }
  ]
}