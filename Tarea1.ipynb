{
  "nbformat": 4,
  "nbformat_minor": 0,
  "metadata": {
    "colab": {
      "provenance": [],
      "include_colab_link": true
    },
    "kernelspec": {
      "name": "python3",
      "display_name": "Python 3"
    },
    "language_info": {
      "name": "python"
    }
  },
  "cells": [
    {
      "cell_type": "markdown",
      "metadata": {
        "id": "view-in-github",
        "colab_type": "text"
      },
      "source": [
        "<a href=\"https://colab.research.google.com/github/TimDrake01/THC_Course/blob/main/Tarea1.ipynb\" target=\"_parent\"><img src=\"https://colab.research.google.com/assets/colab-badge.svg\" alt=\"Open In Colab\"/></a>"
      ]
    },
    {
      "cell_type": "code",
      "execution_count": null,
      "metadata": {
        "id": "tNJgzMUMLeMG"
      },
      "outputs": [],
      "source": []
    },
    {
      "cell_type": "markdown",
      "source": [
        "#Ejercicio 1: Juego de Piedra, Papel o Tijera\n",
        "\n",
        "Descripción: Escribe un programa que permita al usuario jugar Piedra, Papel o Tijera contra la computadora. El juego debe continuar hasta que el usuario decida salir. Usa un ciclo while y estructuras de control."
      ],
      "metadata": {
        "id": "1O33bD-IQYo6"
      }
    },
    {
      "cell_type": "code",
      "source": [
        "import random\n",
        "\n",
        "print(\"Bienvenido al juego de Piedra, Papel o Tijera\")\n",
        "print(\"Las reglas son las siguientes:\")\n",
        "print(\"Piedra gana a Tijera\")\n",
        "print(\"Papel gana a Piedra\")\n",
        "print(\"Tijera gana a Papel\")\n",
        "\n",
        "print(\"Debes elegir una de las siguientes opciones:\")\n",
        "print(\"1. Piedra\")\n",
        "print(\"2. Papel\")\n",
        "print(\"3. Tijera\")\n",
        "print(\"4. Salir\")\n",
        "\n",
        "usuario_gana = False\n",
        "\n",
        "while usuario_gana == False:\n",
        "\n",
        "  mano_maquina = random.choice([\"piedra\", \"papel\", \"tijera\"])\n",
        "\n",
        "  mano_usuario = int(input(\"Elige tu mano: \"))\n",
        "  if mano_usuario == 1:\n",
        "      mano_usuario = \"piedra\"\n",
        "  elif mano_usuario == 2:\n",
        "      mano_usuario = \"papel\"\n",
        "  elif mano_usuario == 3:\n",
        "      mano_usuario = \"tijera\"\n",
        "  elif mano_usuario == 4:\n",
        "    break\n",
        "\n",
        "  if mano_usuario == \"tijera\" and mano_maquina == \"piedra\":\n",
        "    print(\"Has perdido, la maquina eligio \" + mano_maquina)\n",
        "\n",
        "  elif mano_usuario == \"papel\" and mano_maquina == \"tijera\":\n",
        "    print(\"Has perdido, la maquina eligio \" + mano_maquina)\n",
        "\n",
        "  elif mano_usuario == \"piedra\" and mano_maquina == \"papel\":\n",
        "    print(\"Has perdido, la maquina eligio \" + mano_maquina)\n",
        "\n",
        "  elif mano_usuario == mano_maquina:\n",
        "    print(\"Es empate, la maquina eligio \" + mano_maquina)\n",
        "\n",
        "  else:\n",
        "    print(\"Has ganado!, la maquina eligio \" + mano_maquina)\n",
        "    volver_al_juego = input(\"Quieres volver a jugar? S/N \")\n",
        "    if volver_al_juego == \"S\":\n",
        "      usuario_gana = False\n",
        "\n",
        "    else:\n",
        "      usuario_gana = True\n",
        "\n",
        "print(\"Gracias por jugar :D \")\n",
        "\n",
        "\n",
        "\n",
        "\n",
        "\n"
      ],
      "metadata": {
        "id": "bQ9Np-IGQY5e",
        "outputId": "096e1145-961b-405f-fd1c-da26389c0214",
        "colab": {
          "base_uri": "https://localhost:8080/"
        }
      },
      "execution_count": null,
      "outputs": [
        {
          "output_type": "stream",
          "name": "stdout",
          "text": [
            "Bienvenido al juego de Piedra, Papel o Tijera\n",
            "Las reglas son las siguientes:\n",
            "Piedra gana a Tijera\n",
            "Papel gana a Piedra\n",
            "Tijera gana a Papel\n",
            "Debes elegir una de las siguientes opciones:\n",
            "1. Piedra\n",
            "2. Papel\n",
            "3. Tijera\n",
            "4. Salir\n",
            "Elige tu mano: 1\n",
            "Has ganado!, la maquina eligio tijera\n",
            "Quieres volver a jugar? S/N 4\n",
            "Gracias por jugar :D \n"
          ]
        }
      ]
    },
    {
      "cell_type": "markdown",
      "source": [
        "#Ejercicio 2: Factorial de un número positivo\n",
        "\n",
        "Descripción: Escribe un programa que calcule el factorial de un número natural que sea positivo. Para esto, debe validar que el número si sea natural, en caso contrario imprima un letrero que le indique al usuario que agregue un número natural en cinco intentos."
      ],
      "metadata": {
        "id": "NK5Iy2a2Qm5W"
      }
    },
    {
      "cell_type": "code",
      "source": [
        "print(\"Bienvenido al calculador de factoriales \")\n",
        "print(\"Tienes 5 intentos \")\n",
        "\n",
        "intentos = 5\n",
        "\n",
        "while intentos > 0:\n",
        "  num_usuario = float(input(\"Por favor, ingrese un numero entero positivo \"))\n",
        "  if num_usuario - int(num_usuario) != 0.0 or num_usuario < 0:\n",
        "    print(\"Ese no es un numero valido \")\n",
        "    intentos = intentos - 1\n",
        "    num_usuario = float(input(\"Por favor, ingrese un numero entero positivo \"))\n",
        "  else:\n",
        "    while contador > 1:\n",
        "      res_prev = res_prev * (contador - 1)\n",
        "      contador = contador - 1\n",
        "\n",
        "    num_usuario = str(num_usuario)\n",
        "    res_prev = str(res_prev)\n",
        "    print(\"El factorial de \" + num_usuario + \" es: \" + res_prev)\n"
      ],
      "metadata": {
        "id": "nY5HE7jqRVdt",
        "outputId": "cb7b04e6-0cd4-4094-8aaf-b726490bdfb4",
        "colab": {
          "base_uri": "https://localhost:8080/",
          "height": 397
        }
      },
      "execution_count": null,
      "outputs": [
        {
          "output_type": "stream",
          "name": "stdout",
          "text": [
            "Bienvenido al calculador de factoriales \n",
            "Tienes 5 intentos \n"
          ]
        },
        {
          "output_type": "error",
          "ename": "KeyboardInterrupt",
          "evalue": "Interrupted by user",
          "traceback": [
            "\u001b[0;31m---------------------------------------------------------------------------\u001b[0m",
            "\u001b[0;31mKeyboardInterrupt\u001b[0m                         Traceback (most recent call last)",
            "\u001b[0;32m<ipython-input-14-f5a8c7b94e9d>\u001b[0m in \u001b[0;36m<cell line: 0>\u001b[0;34m()\u001b[0m\n\u001b[1;32m      5\u001b[0m \u001b[0;34m\u001b[0m\u001b[0m\n\u001b[1;32m      6\u001b[0m \u001b[0;32mwhile\u001b[0m \u001b[0mintentos\u001b[0m \u001b[0;34m>\u001b[0m \u001b[0;36m0\u001b[0m\u001b[0;34m:\u001b[0m\u001b[0;34m\u001b[0m\u001b[0;34m\u001b[0m\u001b[0m\n\u001b[0;32m----> 7\u001b[0;31m   \u001b[0mnum_usuario\u001b[0m \u001b[0;34m=\u001b[0m \u001b[0mfloat\u001b[0m\u001b[0;34m(\u001b[0m\u001b[0minput\u001b[0m\u001b[0;34m(\u001b[0m\u001b[0;34m\"Por favor, ingrese un numero entero positivo \"\u001b[0m\u001b[0;34m)\u001b[0m\u001b[0;34m)\u001b[0m\u001b[0;34m\u001b[0m\u001b[0;34m\u001b[0m\u001b[0m\n\u001b[0m\u001b[1;32m      8\u001b[0m   \u001b[0;32mif\u001b[0m \u001b[0mnum_usuario\u001b[0m \u001b[0;34m-\u001b[0m \u001b[0mint\u001b[0m\u001b[0;34m(\u001b[0m\u001b[0mnum_usuario\u001b[0m\u001b[0;34m)\u001b[0m \u001b[0;34m!=\u001b[0m \u001b[0;36m0.0\u001b[0m \u001b[0;32mor\u001b[0m \u001b[0mnum_usuario\u001b[0m \u001b[0;34m<\u001b[0m \u001b[0;36m0\u001b[0m\u001b[0;34m:\u001b[0m\u001b[0;34m\u001b[0m\u001b[0;34m\u001b[0m\u001b[0m\n\u001b[1;32m      9\u001b[0m     \u001b[0mprint\u001b[0m\u001b[0;34m(\u001b[0m\u001b[0;34m\"Ese no es un numero valido \"\u001b[0m\u001b[0;34m)\u001b[0m\u001b[0;34m\u001b[0m\u001b[0;34m\u001b[0m\u001b[0m\n",
            "\u001b[0;32m/usr/local/lib/python3.11/dist-packages/ipykernel/kernelbase.py\u001b[0m in \u001b[0;36mraw_input\u001b[0;34m(self, prompt)\u001b[0m\n\u001b[1;32m   1175\u001b[0m                 \u001b[0;34m\"raw_input was called, but this frontend does not support input requests.\"\u001b[0m\u001b[0;34m\u001b[0m\u001b[0;34m\u001b[0m\u001b[0m\n\u001b[1;32m   1176\u001b[0m             )\n\u001b[0;32m-> 1177\u001b[0;31m         return self._input_request(\n\u001b[0m\u001b[1;32m   1178\u001b[0m             \u001b[0mstr\u001b[0m\u001b[0;34m(\u001b[0m\u001b[0mprompt\u001b[0m\u001b[0;34m)\u001b[0m\u001b[0;34m,\u001b[0m\u001b[0;34m\u001b[0m\u001b[0;34m\u001b[0m\u001b[0m\n\u001b[1;32m   1179\u001b[0m             \u001b[0mself\u001b[0m\u001b[0;34m.\u001b[0m\u001b[0m_parent_ident\u001b[0m\u001b[0;34m[\u001b[0m\u001b[0;34m\"shell\"\u001b[0m\u001b[0;34m]\u001b[0m\u001b[0;34m,\u001b[0m\u001b[0;34m\u001b[0m\u001b[0;34m\u001b[0m\u001b[0m\n",
            "\u001b[0;32m/usr/local/lib/python3.11/dist-packages/ipykernel/kernelbase.py\u001b[0m in \u001b[0;36m_input_request\u001b[0;34m(self, prompt, ident, parent, password)\u001b[0m\n\u001b[1;32m   1217\u001b[0m             \u001b[0;32mexcept\u001b[0m \u001b[0mKeyboardInterrupt\u001b[0m\u001b[0;34m:\u001b[0m\u001b[0;34m\u001b[0m\u001b[0;34m\u001b[0m\u001b[0m\n\u001b[1;32m   1218\u001b[0m                 \u001b[0;31m# re-raise KeyboardInterrupt, to truncate traceback\u001b[0m\u001b[0;34m\u001b[0m\u001b[0;34m\u001b[0m\u001b[0m\n\u001b[0;32m-> 1219\u001b[0;31m                 \u001b[0;32mraise\u001b[0m \u001b[0mKeyboardInterrupt\u001b[0m\u001b[0;34m(\u001b[0m\u001b[0;34m\"Interrupted by user\"\u001b[0m\u001b[0;34m)\u001b[0m \u001b[0;32mfrom\u001b[0m \u001b[0;32mNone\u001b[0m\u001b[0;34m\u001b[0m\u001b[0;34m\u001b[0m\u001b[0m\n\u001b[0m\u001b[1;32m   1220\u001b[0m             \u001b[0;32mexcept\u001b[0m \u001b[0mException\u001b[0m\u001b[0;34m:\u001b[0m\u001b[0;34m\u001b[0m\u001b[0;34m\u001b[0m\u001b[0m\n\u001b[1;32m   1221\u001b[0m                 \u001b[0mself\u001b[0m\u001b[0;34m.\u001b[0m\u001b[0mlog\u001b[0m\u001b[0;34m.\u001b[0m\u001b[0mwarning\u001b[0m\u001b[0;34m(\u001b[0m\u001b[0;34m\"Invalid Message:\"\u001b[0m\u001b[0;34m,\u001b[0m \u001b[0mexc_info\u001b[0m\u001b[0;34m=\u001b[0m\u001b[0;32mTrue\u001b[0m\u001b[0;34m)\u001b[0m\u001b[0;34m\u001b[0m\u001b[0;34m\u001b[0m\u001b[0m\n",
            "\u001b[0;31mKeyboardInterrupt\u001b[0m: Interrupted by user"
          ]
        }
      ]
    },
    {
      "cell_type": "markdown",
      "source": [
        "#Ejercicio 3: Números de Fibonacci\n",
        "\n",
        "Descripción: Escribe un programa que genere los primeros n números de la secuencia de Fibonacci, donde n es un número ingresado por el usuario. Usa un ciclo for."
      ],
      "metadata": {
        "id": "dSWucu8mRcXu"
      }
    },
    {
      "cell_type": "code",
      "source": [
        "entrada = int(input(\"Dame un numero entero positivo: \"))\n",
        "fibonacci = [0, 1]\n",
        "for i in range(entrada):\n",
        "  fibonacci.append(fibonacci[-1] + fibonacci[-2])\n",
        "print(fibonacci)"
      ],
      "metadata": {
        "id": "-FEWtPaoRdlW",
        "outputId": "9f6e6ce8-9f67-4b3c-d759-a5e879e6d7c2",
        "colab": {
          "base_uri": "https://localhost:8080/"
        }
      },
      "execution_count": 15,
      "outputs": [
        {
          "output_type": "stream",
          "name": "stdout",
          "text": [
            "Dame un numero entero positivo: 35\n",
            "[0, 1, 1, 2, 3, 5, 8, 13, 21, 34, 55, 89, 144, 233, 377, 610, 987, 1597, 2584, 4181, 6765, 10946, 17711, 28657, 46368, 75025, 121393, 196418, 317811, 514229, 832040, 1346269, 2178309, 3524578, 5702887, 9227465, 14930352]\n"
          ]
        }
      ]
    },
    {
      "cell_type": "markdown",
      "source": [
        "#Ejercicio 4: Números primos\n",
        "\n",
        "Descripción: Escribe un programa que diga si un número es primo o no."
      ],
      "metadata": {
        "id": "XDd7xUWKTPbX"
      }
    },
    {
      "cell_type": "code",
      "source": [
        "# escriba aqui su programa"
      ],
      "metadata": {
        "id": "z1_3-exBRfs-"
      },
      "execution_count": null,
      "outputs": []
    },
    {
      "cell_type": "markdown",
      "source": [
        "#Ejercicio5 : Clasificación de edades\n",
        "\n",
        "Descripción: Escribe un programa que clasifique a un grupo de personas según su edad. El programa debe pedir al usuario la edad de varias personas (hasta que ingrese \"fin\") y luego mostrar cuántas personas pertenecen a cada categoría:\n",
        "\n",
        "Niño: Menos de 13 años.\n",
        "\n",
        "Adolescente: Entre 13 y 17 años.\n",
        "\n",
        "Adulto: Entre 18 y 64 años.\n",
        "\n",
        "Adulto mayor: 65 años o más."
      ],
      "metadata": {
        "id": "CXmjZ8iLTWvW"
      }
    },
    {
      "cell_type": "code",
      "source": [],
      "metadata": {
        "id": "DRgNPtDyTXCm"
      },
      "execution_count": null,
      "outputs": []
    }
  ]
}