{
  "nbformat": 4,
  "nbformat_minor": 0,
  "metadata": {
    "colab": {
      "provenance": [],
      "include_colab_link": true
    },
    "kernelspec": {
      "name": "python3",
      "display_name": "Python 3"
    },
    "language_info": {
      "name": "python"
    }
  },
  "cells": [
    {
      "cell_type": "markdown",
      "metadata": {
        "id": "view-in-github",
        "colab_type": "text"
      },
      "source": [
        "<a href=\"https://colab.research.google.com/github/TimDrake01/THC_Course/blob/main/Tarea1.ipynb\" target=\"_parent\"><img src=\"https://colab.research.google.com/assets/colab-badge.svg\" alt=\"Open In Colab\"/></a>"
      ]
    },
    {
      "cell_type": "code",
      "execution_count": null,
      "metadata": {
        "id": "tNJgzMUMLeMG"
      },
      "outputs": [],
      "source": [
        "import random"
      ]
    },
    {
      "cell_type": "markdown",
      "source": [
        "#Ejercicio 1: Juego de Piedra, Papel o Tijera\n",
        "\n",
        "Descripción: Escribe un programa que permita al usuario jugar Piedra, Papel o Tijera contra la computadora. El juego debe continuar hasta que el usuario decida salir. Usa un ciclo while y estructuras de control."
      ],
      "metadata": {
        "id": "1O33bD-IQYo6"
      }
    },
    {
      "cell_type": "code",
      "source": [
        "import random\n",
        "\n",
        "print(\"Bienvenido al juego de Piedra, Papel o Tijera\")\n",
        "print(\"Las reglas son las siguientes:\")\n",
        "print(\"Piedra gana a Tijera\")\n",
        "print(\"Papel gana a Piedra\")\n",
        "print(\"Tijera gana a Papel\")\n",
        "\n",
        "print(\"Debes elegir una de las siguientes opciones:\")\n",
        "print(\"1. Piedra\")\n",
        "print(\"2. Papel\")\n",
        "print(\"3. Tijera\")\n",
        "print(\"4. Salir\")\n",
        "\n",
        "usuario_gana = False\n",
        "\n",
        "while usuario_gana == False:\n",
        "\n",
        "  mano_maquina = random.choice([\"piedra\", \"papel\", \"tijera\"])\n",
        "\n",
        "  mano_usuario = int(input(\"Elige tu mano: \"))\n",
        "  if mano_usuario == 1:\n",
        "      mano_usuario = \"piedra\"\n",
        "  elif mano_usuario == 2:\n",
        "      mano_usuario = \"papel\"\n",
        "  elif mano_usuario == 3:\n",
        "      mano_usuario = \"tijera\"\n",
        "  elif mano_usuario == 4:\n",
        "    break\n",
        "\n",
        "  if mano_usuario == \"tijera\" and mano_maquina == \"piedra\":\n",
        "    print(\"Has perdido, la maquina eligio \" + mano_maquina)\n",
        "\n",
        "  elif mano_usuario == \"papel\" and mano_maquina == \"tijera\":\n",
        "    print(\"Has perdido, la maquina eligio \" + mano_maquina)\n",
        "\n",
        "  elif mano_usuario == \"piedra\" and mano_maquina == \"papel\":\n",
        "    print(\"Has perdido, la maquina eligio \" + mano_maquina)\n",
        "\n",
        "  elif mano_usuario == mano_maquina:\n",
        "    print(\"Es empate, la maquina eligio \" + mano_maquina)\n",
        "\n",
        "  else:\n",
        "    print(\"Has ganado!, la maquina eligio \" + mano_maquina)\n",
        "    volver_al_juego = input(\"Quieres volver a jugar? S/N \")\n",
        "    if volver_al_juego == \"S\":\n",
        "      usuario_gana = False\n",
        "\n",
        "    else:\n",
        "      usuario_gana = True\n",
        "\n",
        "print(\"Gracias por jugar :D \")\n",
        "\n",
        "\n",
        "\n",
        "\n",
        "\n"
      ],
      "metadata": {
        "id": "bQ9Np-IGQY5e",
        "outputId": "096e1145-961b-405f-fd1c-da26389c0214",
        "colab": {
          "base_uri": "https://localhost:8080/"
        }
      },
      "execution_count": null,
      "outputs": [
        {
          "output_type": "stream",
          "name": "stdout",
          "text": [
            "Bienvenido al juego de Piedra, Papel o Tijera\n",
            "Las reglas son las siguientes:\n",
            "Piedra gana a Tijera\n",
            "Papel gana a Piedra\n",
            "Tijera gana a Papel\n",
            "Debes elegir una de las siguientes opciones:\n",
            "1. Piedra\n",
            "2. Papel\n",
            "3. Tijera\n",
            "4. Salir\n",
            "Elige tu mano: 1\n",
            "Has ganado!, la maquina eligio tijera\n",
            "Quieres volver a jugar? S/N 4\n",
            "Gracias por jugar :D \n"
          ]
        }
      ]
    },
    {
      "cell_type": "markdown",
      "source": [
        "#Ejercicio 2: Factorial de un número positivo\n",
        "\n",
        "Descripción: Escribe un programa que calcule el factorial de un número natural que sea positivo. Para esto, debe validar que el número si sea natural, en caso contrario imprima un letrero que le indique al usuario que agregue un número natural en cinco intentos."
      ],
      "metadata": {
        "id": "NK5Iy2a2Qm5W"
      }
    },
    {
      "cell_type": "code",
      "source": [
        "print(\"Bienvenido al calculador de factoriales \")\n",
        "\n",
        "num_usuario = (input(\"Por favor, ingrese un numero entero positivo \"))\n",
        "\n",
        "contador = int(num_usuario)\n",
        "res_prev = int(num_usuario)\n",
        "\n",
        "while contador > 1:\n",
        "  res_prev = res_prev * (contador - 1)\n",
        "  contador = contador - 1\n",
        "\n",
        "num_usuario = str(num_usuario)\n",
        "res_prev = str(res_prev)\n",
        "print(\"El factorial de \" + num_usuario + \" es: \" + res_prev)"
      ],
      "metadata": {
        "id": "nY5HE7jqRVdt",
        "outputId": "49877c80-6e68-4456-f7a0-2bb4b8f849bf",
        "colab": {
          "base_uri": "https://localhost:8080/"
        }
      },
      "execution_count": 1,
      "outputs": [
        {
          "output_type": "stream",
          "name": "stdout",
          "text": [
            "Bienvenido al calculador de factoriales \n",
            "Por favor, ingrese un numero entero positivo 5\n",
            "El factorial de 5 es: 120\n"
          ]
        }
      ]
    },
    {
      "cell_type": "markdown",
      "source": [
        "#Ejercicio 3: Números de Fibonacci\n",
        "\n",
        "Descripción: Escribe un programa que genere los primeros n números de la secuencia de Fibonacci, donde n es un número ingresado por el usuario. Usa un ciclo for."
      ],
      "metadata": {
        "id": "dSWucu8mRcXu"
      }
    },
    {
      "cell_type": "code",
      "source": [
        "# escriba aqui su programa"
      ],
      "metadata": {
        "id": "-FEWtPaoRdlW"
      },
      "execution_count": null,
      "outputs": []
    },
    {
      "cell_type": "markdown",
      "source": [
        "#Ejercicio 4: Números primos\n",
        "\n",
        "Descripción: Escribe un programa que diga si un número es primo o no."
      ],
      "metadata": {
        "id": "XDd7xUWKTPbX"
      }
    },
    {
      "cell_type": "code",
      "source": [
        "# escriba aqui su programa"
      ],
      "metadata": {
        "id": "z1_3-exBRfs-"
      },
      "execution_count": null,
      "outputs": []
    },
    {
      "cell_type": "markdown",
      "source": [
        "#Ejercicio5 : Clasificación de edades\n",
        "\n",
        "Descripción: Escribe un programa que clasifique a un grupo de personas según su edad. El programa debe pedir al usuario la edad de varias personas (hasta que ingrese \"fin\") y luego mostrar cuántas personas pertenecen a cada categoría:\n",
        "\n",
        "Niño: Menos de 13 años.\n",
        "\n",
        "Adolescente: Entre 13 y 17 años.\n",
        "\n",
        "Adulto: Entre 18 y 64 años.\n",
        "\n",
        "Adulto mayor: 65 años o más."
      ],
      "metadata": {
        "id": "CXmjZ8iLTWvW"
      }
    },
    {
      "cell_type": "code",
      "source": [],
      "metadata": {
        "id": "DRgNPtDyTXCm"
      },
      "execution_count": null,
      "outputs": []
    }
  ]
}