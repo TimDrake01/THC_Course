{
  "nbformat": 4,
  "nbformat_minor": 0,
  "metadata": {
    "colab": {
      "provenance": [],
      "authorship_tag": "ABX9TyPWWNp09APLw72+4BTDK9nA",
      "include_colab_link": true
    },
    "kernelspec": {
      "name": "python3",
      "display_name": "Python 3"
    },
    "language_info": {
      "name": "python"
    }
  },
  "cells": [
    {
      "cell_type": "markdown",
      "metadata": {
        "id": "view-in-github",
        "colab_type": "text"
      },
      "source": [
        "<a href=\"https://colab.research.google.com/github/TimDrake01/THC_Course/blob/main/Untitled3.ipynb\" target=\"_parent\"><img src=\"https://colab.research.google.com/assets/colab-badge.svg\" alt=\"Open In Colab\"/></a>"
      ]
    },
    {
      "cell_type": "code",
      "execution_count": 1,
      "metadata": {
        "colab": {
          "base_uri": "https://localhost:8080/"
        },
        "id": "9HsRtbXnfqNd",
        "outputId": "7fcbf86d-4c8b-4112-cb6d-4bdd5b0662e9"
      },
      "outputs": [
        {
          "output_type": "stream",
          "name": "stdout",
          "text": [
            "{'llave 1': 100, 'llave 2': 101, 'llave 3': 102}\n"
          ]
        }
      ],
      "source": [
        "# diccionario vacio\n",
        "mi_dic = {}\n",
        "mi_dic[\"llave 1\"] = 100\n",
        "mi_dic[\"llave 2\"] = 101\n",
        "mi_dic[\"llave 3\"] = 102\n",
        "\n",
        "print(mi_dic)"
      ]
    },
    {
      "cell_type": "code",
      "source": [
        "mi_dic2 = {\"llave 1\": \"primera llave\", \"llave 2\": 155, \"llave 3\": True}\n",
        "print(mi_dic2)"
      ],
      "metadata": {
        "colab": {
          "base_uri": "https://localhost:8080/"
        },
        "id": "Zs6GCT8EgDLW",
        "outputId": "e1daa36d-d42a-493a-aef6-fafb26035c30"
      },
      "execution_count": 9,
      "outputs": [
        {
          "output_type": "stream",
          "name": "stdout",
          "text": [
            "{'llave 1': 'primera llave', 'llave 2': 155, 'llave 3': True}\n"
          ]
        }
      ]
    },
    {
      "cell_type": "code",
      "source": [
        "mi_dic2.keys() # funcion para er cuantas llaves hay en mi diccionario\n",
        "\n",
        "list(type(iele) for iele in mi_dic2.values()) \"\"\" funcion para obtener los tipos\n",
        "de cada valor del diccionario \"\"\"\n",
        "\n"
      ],
      "metadata": {
        "colab": {
          "base_uri": "https://localhost:8080/"
        },
        "id": "vsCOzDWYh18H",
        "outputId": "f666c6fe-07fb-4fb1-fd2a-e1b5aafda38f"
      },
      "execution_count": 10,
      "outputs": [
        {
          "output_type": "execute_result",
          "data": {
            "text/plain": [
              "[str, int, bool]"
            ]
          },
          "metadata": {},
          "execution_count": 10
        }
      ]
    },
    {
      "cell_type": "code",
      "source": [
        "\"\"\"duplicados = ['pera', 'pera', 'manzana', 'fresa', 'uva', 'fresa',]\n",
        "\n",
        "for duplicado in duplicados:\n",
        "  if duplicados[0] == duplicados [1]:\n",
        "    duplicados.remove[1]\n",
        "print(duplicados)\"\"\"\n",
        "\n"
      ],
      "metadata": {
        "colab": {
          "base_uri": "https://localhost:8080/",
          "height": 214
        },
        "id": "9rL8MPGejS3V",
        "outputId": "ac19aac4-055b-43bf-a949-afbb82e8fdd1"
      },
      "execution_count": 15,
      "outputs": [
        {
          "output_type": "error",
          "ename": "TypeError",
          "evalue": "'builtin_function_or_method' object is not subscriptable",
          "traceback": [
            "\u001b[0;31m---------------------------------------------------------------------------\u001b[0m",
            "\u001b[0;31mTypeError\u001b[0m                                 Traceback (most recent call last)",
            "\u001b[0;32m<ipython-input-15-b45c5266e58e>\u001b[0m in \u001b[0;36m<cell line: 0>\u001b[0;34m()\u001b[0m\n\u001b[1;32m      3\u001b[0m \u001b[0;32mfor\u001b[0m \u001b[0mduplicado\u001b[0m \u001b[0;32min\u001b[0m \u001b[0mduplicados\u001b[0m\u001b[0;34m:\u001b[0m\u001b[0;34m\u001b[0m\u001b[0;34m\u001b[0m\u001b[0m\n\u001b[1;32m      4\u001b[0m   \u001b[0;32mif\u001b[0m \u001b[0mduplicados\u001b[0m\u001b[0;34m[\u001b[0m\u001b[0;36m0\u001b[0m\u001b[0;34m]\u001b[0m \u001b[0;34m==\u001b[0m \u001b[0mduplicados\u001b[0m \u001b[0;34m[\u001b[0m\u001b[0;36m1\u001b[0m\u001b[0;34m]\u001b[0m\u001b[0;34m:\u001b[0m\u001b[0;34m\u001b[0m\u001b[0;34m\u001b[0m\u001b[0m\n\u001b[0;32m----> 5\u001b[0;31m     \u001b[0mduplicados\u001b[0m\u001b[0;34m.\u001b[0m\u001b[0mremove\u001b[0m\u001b[0;34m[\u001b[0m\u001b[0;36m1\u001b[0m\u001b[0;34m]\u001b[0m\u001b[0;34m\u001b[0m\u001b[0;34m\u001b[0m\u001b[0m\n\u001b[0m\u001b[1;32m      6\u001b[0m \u001b[0mprint\u001b[0m\u001b[0;34m(\u001b[0m\u001b[0mduplicados\u001b[0m\u001b[0;34m)\u001b[0m\u001b[0;34m\u001b[0m\u001b[0;34m\u001b[0m\u001b[0m\n\u001b[1;32m      7\u001b[0m \u001b[0;34m\u001b[0m\u001b[0m\n",
            "\u001b[0;31mTypeError\u001b[0m: 'builtin_function_or_method' object is not subscriptable"
          ]
        }
      ]
    },
    {
      "cell_type": "code",
      "source": [
        "\"\"\"for i in range(len(duplicados)):\n",
        "  for j in range(len(duplicados)):\n",
        "    if i != j:\"\"\"\n"
      ],
      "metadata": {
        "id": "tcn-52bJtATk"
      },
      "execution_count": null,
      "outputs": []
    },
    {
      "cell_type": "code",
      "source": [
        "mi_lista = [6,5,4,3,2,1]\n"
      ],
      "metadata": {
        "id": "r55je08-tUEa"
      },
      "execution_count": null,
      "outputs": []
    }
  ]
}