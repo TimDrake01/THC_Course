{
  "nbformat": 4,
  "nbformat_minor": 0,
  "metadata": {
    "colab": {
      "provenance": [],
      "include_colab_link": true
    },
    "kernelspec": {
      "name": "python3",
      "display_name": "Python 3"
    },
    "language_info": {
      "name": "python"
    }
  },
  "cells": [
    {
      "cell_type": "markdown",
      "metadata": {
        "id": "view-in-github",
        "colab_type": "text"
      },
      "source": [
        "<a href=\"https://colab.research.google.com/github/TimDrake01/THC_Course/blob/main/TAREA_5.ipynb\" target=\"_parent\"><img src=\"https://colab.research.google.com/assets/colab-badge.svg\" alt=\"Open In Colab\"/></a>"
      ]
    },
    {
      "cell_type": "code",
      "execution_count": null,
      "metadata": {
        "colab": {
          "base_uri": "https://localhost:8080/"
        },
        "id": "9Ym2hhMggG_e",
        "outputId": "b61f354f-2a0e-4630-aa89-a1bd513fa3df"
      },
      "outputs": [
        {
          "output_type": "stream",
          "name": "stdout",
          "text": [
            "Cuantos renglones tiene tu arreglo? 3\n",
            "Cuantas columnas tiene tu arreglo? 3\n",
            "\n",
            "\n",
            "[[0, 0, 0], [0, 0, 0], [0, 0, 0]]\n",
            "\n",
            "\n",
            "Da A[0,0] 1\n",
            "Da A[0,1] 2\n",
            "Da A[0,2] 3\n",
            "Da A[1,0] 4\n",
            "Da A[1,1] 5\n",
            "Da A[1,2] 6\n",
            "Da A[2,0] 7\n",
            "Da A[2,1] 8\n",
            "Da A[2,2] 9\n",
            "\n",
            "\n",
            "[[1, 2, 3], [4, 5, 6], [7, 8, 9]]\n"
          ]
        }
      ],
      "source": [
        "# Ejemplo de arreglo de orden 2\n",
        "\n",
        "m = int(input(\"Cuantos renglones tiene tu arreglo? \"))\n",
        "n = int(input(\"Cuantas columnas tiene tu arreglo? \"))\n",
        "print(\"\\n\")\n",
        "A = []\n",
        "\n",
        "# Creamos una matriz de m,n dimensiones llena de ceros\n",
        "\n",
        "for i in range(m):\n",
        "    A.append([0] * n)\n",
        "print(A)\n",
        "print(\"\\n\")\n",
        "\n",
        "# Pedimos elemento por elemento\n",
        "\n",
        "for i in range(m):\n",
        "    for j in range(n):\n",
        "        A[i][j] = int(input(f\"Da A[{i},{j}] \"))\n",
        "        #A[i][j] = int(input(\"Da A(%d, %d) \"  %(i,j)))\n",
        "\n",
        "print(\"\\n\")\n",
        "print(A)"
      ]
    },
    {
      "cell_type": "code",
      "source": [
        "from numpy import *\n",
        "\n",
        "f_1 = int(input(\"Cuantos renglones tiene la primera matriz? \"))\n",
        "c_1 = int(input(\"Cuantas columnas tiene la primera matriz? \"))\n",
        "print(\"\\n\")\n",
        "m_A = zeros((f_1,c_1))\n",
        "print(m_A)\n",
        "\n",
        "f_2 = int(input(\"Cuantos renglones tiene la segunda matriz? \"))\n",
        "c_2 = int(input(\"Cuantas columnas tiene la segunda matriz? \"))\n",
        "print(\"\\n\")\n",
        "m_B = zeros((f_2,c_2))\n",
        "print(m_B)\n",
        "\n",
        "\n",
        "def elem_matriz(m_A,m_B):\n",
        "  for i in range(f_1):\n",
        "    for j in range(c_1):\n",
        "      m_A[i][j] = int(input(f\"Da A[{i},{j}] \"))\n",
        "  for i in range(f_2):\n",
        "    for j in range(c_2):\n",
        "      m_B[i][j] = int(input(f\"Da B[{i},{j}] \"))\n",
        "  print(\"\\n\")\n",
        "  return m_A,m_B\n",
        "\n",
        "print(\"\\n\")\n",
        "elem_matriz(m_A,m_B)\n",
        "\n",
        "\n",
        "\n",
        "\n",
        "\n"
      ],
      "metadata": {
        "id": "gQdltGclld2u",
        "outputId": "6208dba3-e783-4e27-df31-cfdaa97a8c24",
        "colab": {
          "base_uri": "https://localhost:8080/"
        }
      },
      "execution_count": 7,
      "outputs": [
        {
          "output_type": "stream",
          "name": "stdout",
          "text": [
            "Cuantos renglones tiene la primera matriz? 2\n",
            "Cuantas columnas tiene la primera matriz? 2\n",
            "\n",
            "\n",
            "[[0. 0.]\n",
            " [0. 0.]]\n",
            "Cuantos renglones tiene la segunda matriz? 2\n",
            "Cuantas columnas tiene la segunda matriz? 2\n",
            "\n",
            "\n",
            "[[0. 0.]\n",
            " [0. 0.]]\n",
            "\n",
            "\n",
            "Da A[0,0] 1\n",
            "Da A[0,1] 2\n",
            "Da A[1,0] 3\n",
            "Da A[1,1] 4\n",
            "Da B[0,0] 5\n",
            "Da B[0,1] 6\n",
            "Da B[1,0] 7\n",
            "Da B[1,1] 8\n",
            "\n",
            "\n"
          ]
        },
        {
          "output_type": "execute_result",
          "data": {
            "text/plain": [
              "(array([[1., 2.],\n",
              "        [3., 4.]]),\n",
              " array([[5., 6.],\n",
              "        [7., 8.]]))"
            ]
          },
          "metadata": {},
          "execution_count": 7
        }
      ]
    }
  ]
}